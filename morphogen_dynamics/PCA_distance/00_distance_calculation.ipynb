{
 "cells": [
  {
   "cell_type": "code",
   "execution_count": 1,
   "id": "bc07d501-9ea8-4ac5-a116-5730cece6984",
   "metadata": {},
   "outputs": [],
   "source": [
    "import numpy as np\n",
    "import matplotlib.pyplot as plt\n",
    "from sklearn.ensemble import RandomForestRegressor\n",
    "from sklearn.model_selection import train_test_split\n",
    "from sklearn.multioutput import MultiOutputRegressor\n",
    "import pickle\n",
    "import pandas as pd\n",
    "import scanpy as sc"
   ]
  },
  {
   "cell_type": "code",
   "execution_count": null,
   "id": "0d95c2a6-9e73-4744-81dd-20546030ef72",
   "metadata": {},
   "outputs": [],
   "source": [
    "sample = 'iGlut_post' #choose from ['iGlut_post','iGlut_pre','iGABA_pre','iGABA_post']:\n"
   ]
  },
  {
   "cell_type": "code",
   "execution_count": 3,
   "id": "50e7d35b-2240-4dfc-88d9-c194f7361eca",
   "metadata": {},
   "outputs": [
    {
     "name": "stdout",
     "output_type": "stream",
     "text": [
      "iGABA_post\n",
      "mTeSR    85756\n",
      "Name: Basal_media, dtype: int64\n"
     ]
    }
   ],
   "source": [
    "print(sample)\n",
    "\n",
    "meta = pd.read_csv(\"scanpy/\"+sample+\"_dr_clustered_raw_merged_meta.tsv\",sep=\"\\t\",index_col=0)\n",
    "meta['M_CycA'] = meta['CycA']\n",
    "meta.drop('CycA',axis=1,inplace=True)\n",
    "meta.head()\n",
    "\n",
    "meta['condition'] = meta['AP_axis'] + \"_\" + meta['DV_axis']\n",
    "print(meta['Basal_media'].value_counts())\n",
    "\n",
    "adata = sc.read_h5ad(\"scanpy/\"+sample+\"_dr_clustered_raw_merged.h5ad\")\n",
    "adata.obs['BC'] = adata.obs.index\n",
    "adata = adata[meta.index,:]\n",
    "\n",
    "dgem = pd.DataFrame.sparse.from_spmatrix(adata.X)\n",
    "dgem.index = adata.obs.index\n",
    "dgem.columns = adata.var_names\n",
    "dgem.head()\n",
    "\n",
    "\n",
    "morphogens = ['XAV','CHIR','RA','FGF8','BMP4','SHH','CycA'] #don't add PM\n",
    "morphogens = ['M_'+x for x in morphogens]\n",
    "\n"
   ]
  },
  {
   "cell_type": "code",
   "execution_count": 4,
   "id": "771e1dfc-6f22-4797-aa8c-095af8f1935b",
   "metadata": {},
   "outputs": [],
   "source": [
    "ctrl_cells = list(meta.loc[meta['condition'].isin(['ctrl_ctrl'])].index)\n",
    "g1_cells = list(meta.index)\n",
    "sel_cells = ctrl_cells+g1_cells"
   ]
  },
  {
   "cell_type": "code",
   "execution_count": 7,
   "id": "0c55f4d1-c1a1-4d2d-af90-f20e9b1dcc49",
   "metadata": {},
   "outputs": [],
   "source": [
    "human_TFs = pd.read_csv(\"/home/jjanssens/jjans/resources/geneLists/human_TFs/utoronto_human_tfs_v_1.01.txt\",sep=\"\\t\",header=None)\n",
    "human_TFs = list(human_TFs[0])\n",
    "human_TFs = [x for x in human_TFs if x in adata.var_names]"
   ]
  },
  {
   "cell_type": "code",
   "execution_count": 8,
   "id": "d5635e0a-69f6-4dd2-8db3-b7e0f1875332",
   "metadata": {
    "tags": []
   },
   "outputs": [],
   "source": [
    "#adata_subset = adata[sel_cells,:].copy()\n",
    "expression_group1 = adata[g1_cells,human_TFs].X\n",
    "expression_group2 = adata[ctrl_cells,human_TFs].X\n"
   ]
  },
  {
   "cell_type": "code",
   "execution_count": 9,
   "id": "0b876e77-6760-40db-a287-b12fa800f58f",
   "metadata": {},
   "outputs": [
    {
     "data": {
      "text/plain": [
       "<85756x1622 sparse matrix of type '<class 'numpy.float32'>'\n",
       "\twith 14209380 stored elements in Compressed Sparse Row format>"
      ]
     },
     "execution_count": 9,
     "metadata": {},
     "output_type": "execute_result"
    }
   ],
   "source": [
    "expression_group1"
   ]
  },
  {
   "cell_type": "code",
   "execution_count": 10,
   "id": "b197a691-5283-435f-a860-928ae7f81d99",
   "metadata": {},
   "outputs": [],
   "source": [
    "from scipy.spatial import distance_matrix\n",
    "from scipy.spatial.distance import cdist, pdist\n"
   ]
  },
  {
   "cell_type": "code",
   "execution_count": null,
   "id": "a65b2e3c-d920-42e9-85f5-8449da2d8791",
   "metadata": {},
   "outputs": [],
   "source": [
    "#cosine distances\n",
    "expression_group1 = expression_group1.todense()\n",
    "expression_group2 = expression_group2.todense()\n",
    "\n",
    "distances = cdist(expression_group1, expression_group2, metric='cosine')\n",
    "distances = pd.DataFrame(distances)\n",
    "\n",
    "distances.index = g1_cells\n",
    "distances.columns = ctrl_cells\n",
    "\n",
    "distances.to_csv(sample+'_cosine_distances.tsv',sep='\\t')"
   ]
  },
  {
   "cell_type": "code",
   "execution_count": null,
   "id": "3e1c7d25-6af2-4513-a223-7e872e75a74e",
   "metadata": {},
   "outputs": [],
   "source": [
    "dist_summary = []\n",
    "for cell1 in g1_cells:\n",
    "    distances_against_ctrl = distances.loc[cell1,ctrl_cells]\n",
    "    min_mean_dist_against_ctrl = np.mean(distances_against_ctrl.sort_values()[0:10])\n",
    "    dist_summary.append(dict(cell=cell1,mdist=min_mean_dist_against_ctrl))\n",
    "dist_summary = pd.DataFrame(dist_summary)"
   ]
  },
  {
   "cell_type": "code",
   "execution_count": null,
   "id": "b59d7aa7-06b7-46c3-9dff-ae9763ab0ed3",
   "metadata": {},
   "outputs": [],
   "source": [
    "dist_summary.index = dist_summary['cell']\n",
    "\n",
    "meta['mdist'] = 1\n",
    "meta.loc[dist_summary.index,'mdist'] = dist_summary.loc[dist_summary.index,'mdist']"
   ]
  },
  {
   "cell_type": "code",
   "execution_count": null,
   "id": "9194cb8f-8b74-43d1-bc0d-c02f955498e9",
   "metadata": {
    "tags": []
   },
   "outputs": [],
   "source": [
    "dist_summary.to_csv(sample+\"_cosine_distances_summary.tsv\",sep='\\t')\n",
    "distances.to_csv(sample+'_cosine_distances.tsv',sep='\\t')"
   ]
  },
  {
   "cell_type": "code",
   "execution_count": null,
   "id": "1c9e5f07-5468-499f-8d71-ca9d0f755ea4",
   "metadata": {},
   "outputs": [],
   "source": [
    "X_pca = adata.obsm['X_pca']\n",
    "X_pca = pd.DataFrame(X_pca,index=adata.obs_names)\n",
    "\n",
    "#adata_subset = adata[sel_cells,:].copy()\n",
    "expression_group1 = X_pca.loc[g1_cells,0:49]\n",
    "expression_group2 = X_pca.loc[ctrl_cells,0:49]\n",
    "\n",
    "distances = cdist(expression_group1, expression_group2, metric='euclidean')\n",
    "distances = pd.DataFrame(distances)\n",
    "distances.index = g1_cells\n",
    "distances.columns = ctrl_cells\n",
    "distances.to_csv(sample+'_euclid_distances_PCA_50.tsv',sep='\\t')"
   ]
  },
  {
   "cell_type": "code",
   "execution_count": null,
   "id": "5b876d00-e732-486d-adb8-25a4ba6ba838",
   "metadata": {},
   "outputs": [],
   "source": [
    "dist_summary = []\n",
    "for cell1 in g1_cells:\n",
    "    distances_against_ctrl = distances.loc[cell1,ctrl_cells]\n",
    "    min_mean_dist_against_ctrl = np.mean(distances_against_ctrl.sort_values()[0:10])\n",
    "    dist_summary.append(dict(cell=cell1,mdist=min_mean_dist_against_ctrl))\n",
    "dist_summary = pd.DataFrame(dist_summary)\n",
    "\n",
    "dist_summary.index = dist_summary['cell']"
   ]
  },
  {
   "cell_type": "code",
   "execution_count": null,
   "id": "0335229d-c79f-48df-8a08-583997be3675",
   "metadata": {
    "tags": []
   },
   "outputs": [],
   "source": [
    "dist_summary.to_csv(sample+\"_euclid_distances_PCA_50_summary.tsv\",sep='\\t')"
   ]
  }
 ],
 "metadata": {
  "kernelspec": {
   "display_name": "py_jjans_3.10_scanpy",
   "language": "python",
   "name": "py_jjans_3.10_scanpy"
  },
  "language_info": {
   "codemirror_mode": {
    "name": "ipython",
    "version": 3
   },
   "file_extension": ".py",
   "mimetype": "text/x-python",
   "name": "python",
   "nbconvert_exporter": "python",
   "pygments_lexer": "ipython3",
   "version": "3.10.8"
  }
 },
 "nbformat": 4,
 "nbformat_minor": 5
}
