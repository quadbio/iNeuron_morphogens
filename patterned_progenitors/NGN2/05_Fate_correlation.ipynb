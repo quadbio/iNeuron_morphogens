{
 "cells": [
  {
   "cell_type": "code",
   "execution_count": null,
   "id": "74fe7b31",
   "metadata": {
    "vscode": {
     "languageId": "r"
    }
   },
   "outputs": [],
   "source": [
    "library(Seurat)\n",
    "library(dplyr)\n",
    "library(tidyverse)\n",
    "library(ggplot2)\n",
    "library(pheatmap)\n",
    "library(presto)\n",
    "library(MetBrewer)\n",
    "library(RColorBrewer)"
   ]
  },
  {
   "cell_type": "code",
   "execution_count": null,
   "id": "34b732a0-421f-4a71-bd23-24c0a2f7ff80",
   "metadata": {
    "vscode": {
     "languageId": "r"
    }
   },
   "outputs": [],
   "source": [
    "# Read in data\n",
    "seurat <- readRDS('iGlut_pre_seurat.rds')\n",
    "muo <- readRDS('prepat_multiome_seurat.rds')\n",
    "\n",
    "# Read in samples of interest\n",
    "muo_good_sample <- readRDS('muo_good_sample.rds')\n",
    "muo_good_sample <- paste0('p3_', muo_good_sample)\n"
   ]
  },
  {
   "cell_type": "code",
   "execution_count": 4,
   "id": "713424df-b895-45f5-bf0e-38e7b6229ba2",
   "metadata": {
    "vscode": {
     "languageId": "r"
    }
   },
   "outputs": [
    {
     "name": "stderr",
     "output_type": "stream",
     "text": [
      "Loading required package: Pando\n",
      "\n"
     ]
    }
   ],
   "source": [
    "# Genedate df for region proportion in seurat and muo\n",
    "df_muo <- as.data.frame(prop.table(table(muo$parse_id_transfer, muo$annotation), margin=1))\n",
    "df_seurat <- as.data.frame(prop.table(table(seurat$parse_id, seurat$region), margin=1))\n"
   ]
  },
  {
   "cell_type": "code",
   "execution_count": null,
   "id": "88be7e59-f2fc-4a04-bdb8-6f853d589417",
   "metadata": {
    "vscode": {
     "languageId": "r"
    }
   },
   "outputs": [
    {
     "name": "stdout",
     "output_type": "stream",
     "text": [
      " [1] \"Spinal cord progenitor\"       \"Mesodermal progenitor\"       \n",
      " [3] \"Forebrain progenitor\"         \"Dorsal forebrain progenitor\" \n",
      " [5] \"Retina progenitor\"            \"ND\"                          \n",
      " [7] \"Ventral forebrain progenitor\" \"Hindbrain progenitor\"        \n",
      " [9] \"Midbrain progenitor\"          \"NCC progenitor\"              \n",
      "[11] \"iPSC\"                        \n",
      "[1] \"Other\"       \"Hindbrain\"   \"Forebrain\"   \"SYM\"         \"Midbrain\"   \n",
      "[6] \"Optic cup\"   \"Spinal cord\"\n"
     ]
    }
   ],
   "source": [
    "# From muo combine annotations:\n",
    "# From all forebrain relevant progenitors into forebrain\n",
    "# From hindbrain and spinal cord into hindbrain_spinal_cord\n",
    "# From mesoderm and ncc to other\n",
    "\n",
    "old_annotation <- unique(muo$annotation)\n",
    "print(old_annotation)\n",
    "\n",
    "new_annotation <- c('Hindbrain_spinal_cord', 'Other', 'Forebrain',\n",
    "                    'Forebrain', 'Retina', 'ND', 'Forebrain',\n",
    "                    'Hindbrain_spinal_cord', 'Midbrain', 'Other', 'iPSC'\n",
    "                   )\n",
    "\n",
    "muo$annotation_cb <- plyr::mapvalues(\n",
    "    muo@meta.data$annotation,\n",
    "    from = old_annotation,\n",
    "    to = new_annotation\n",
    ")\n",
    "\n",
    "\n",
    "# To be able to match annotations between dataset\n",
    "# From seurat combine annotations:\n",
    "# From optic cup into retina\n",
    "# From hindbrain and spinal cord into hindbrain_spinal_cord\n",
    "\n",
    "old_region <- unique(seurat$region)\n",
    "print(old_region)\n",
    "\n",
    "new_region <- c('Other', 'Hindbrain_spinal_cord', 'Forebrain',\n",
    "                'SYM', 'Midbrain', 'Retina', 'Hindbrain_spinal_cord'\n",
    "               )\n",
    "\n",
    "seurat$region_cb <- plyr::mapvalues(\n",
    "    seurat@meta.data$region,\n",
    "    from = old_region,\n",
    "    to = new_region\n",
    ")\n"
   ]
  },
  {
   "cell_type": "code",
   "execution_count": null,
   "id": "9ac9bf26-2a7c-45b8-9055-253091f79a33",
   "metadata": {
    "vscode": {
     "languageId": "r"
    }
   },
   "outputs": [],
   "source": [
    "# Genedate df for combined region proportion in muo\n",
    "df_muo_cb <- as.data.frame(prop.table(table(muo$parse_id_transfer, muo$annotation_cb), margin=1))\n",
    "df_seurat_cb <- as.data.frame(prop.table(table(seurat$parse_id, seurat$region_cb), margin=1))\n",
    "\n",
    "# Setting names for the dataframe\n",
    "names(df_muo_cb) <- c('sample', 'annotation', 'muo_freq')\n",
    "names(df_seurat_cb) <- c('sample', 'annotation', 'seurat_freq')"
   ]
  },
  {
   "cell_type": "code",
   "execution_count": null,
   "id": "8ea2ccda",
   "metadata": {
    "vscode": {
     "languageId": "r"
    }
   },
   "outputs": [],
   "source": [
    "# Calculate and plot out correlation between regions in muo and seurat\n",
    "mtx_muo <- prop.table(table(muo$parse_id_transfer, muo$annotation_cb), margin=1)\n",
    "mtx_seurat <- prop.table(table(seurat$parse_id, seurat$region_cb), margin=1)\n",
    "\n",
    "cor_fate_sample <- cor(t(mtx_muo[muo_good_sample, fate]), t(mtx_seurat[muo_good_sample, fate]), method=\"spearman\")\n",
    "\n",
    "# Extract the diagonal of fate correlation in each sample\n",
    "cor_fate <- as.data.frame(diag(cor_fate_sample)) %>% \n",
    "    arrange(desc(diag(cor_fate_sample)))\n",
    "\n",
    "names(cor_fate) <- c('fate_cor')\n",
    "\n",
    "cor_fate <- cor_fate %>%\n",
    "    mutate(sample = rownames(cor_fate))"
   ]
  },
  {
   "cell_type": "code",
   "execution_count": null,
   "id": "916b48a7-8bd4-475a-af5a-f810dd786037",
   "metadata": {
    "vscode": {
     "languageId": "r"
    }
   },
   "outputs": [
    {
     "data": {
      "image/png": "[encoded data removed]",
      "text/plain": [
       "plot without title"
      ]
     },
     "metadata": {
      "image/png": {
       "height": 120,
       "width": 480
      }
     },
     "output_type": "display_data"
    }
   ],
   "source": [
    "options(repr.plot.width=8, repr.plot.height=2)\n",
    "ggplot(cor_fate, aes(x=reorder(sample, desc(fate_cor)), y=fate_cor)) + \n",
    "    geom_point(aes(fill=fate_cor), shape = 21, size=2.5) +\n",
    "    scale_fill_gradient(low=\"white\", high=\"black\") +\n",
    "    theme_classic() +\n",
    "    theme(axis.text.x=element_blank(),\n",
    "          axis.ticks.x=element_blank())\n",
    "\n",
    "ggsave('fate_corr.pdf', \n",
    "       width=16, height=5, unit='cm')\n"
   ]
  }
 ],
 "metadata": {
  "kernelspec": {
   "display_name": "R",
   "language": "R",
   "name": "ir"
  },
  "language_info": {
   "codemirror_mode": "r",
   "file_extension": ".r",
   "mimetype": "text/x-r-source",
   "name": "R",
   "pygments_lexer": "r",
   "version": "4.3.2"
  }
 },
 "nbformat": 4,
 "nbformat_minor": 5
}
