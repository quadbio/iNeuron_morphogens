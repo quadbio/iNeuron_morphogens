{
 "cells": [
  {
   "cell_type": "code",
   "execution_count": 25,
   "id": "e192ea47-1f9f-44f0-ae0a-11ddf9505743",
   "metadata": {
    "tags": [],
    "vscode": {
     "languageId": "r"
    }
   },
   "outputs": [],
   "source": [
    "library(Seurat)\n",
    "library(SingleCellExperiment)\n",
    "library(MuSiC)\n",
    "library(MuSiC2)\n",
    "library(dplyr)\n",
    "library(zellkonverter)\n",
    "\n",
    "library(reshape2)\n",
    "library(reshape)"
   ]
  },
  {
   "cell_type": "code",
   "execution_count": 2,
   "id": "cacf2a64-9c7f-4ed9-bb5a-777a5e143eda",
   "metadata": {
    "vscode": {
     "languageId": "r"
    }
   },
   "outputs": [],
   "source": [
    "#Bulk RNA-seq data\n",
    "exprsFile <- 'bulk/expression_data_names.tsv'\n",
    "exprs <- read.table(exprsFile, header=TRUE, sep=\"\\t\",row.names=1,as.is=TRUE)\n",
    "exprs <- as.data.frame(exprs)\n",
    "exprs <- exprs %>% \n",
    "  select(-c(\"X72\"))\n",
    "exprs <- as.matrix(exprs)\n",
    "minimalSet <- ExpressionSet(assayData=exprs)"
   ]
  },
  {
   "cell_type": "code",
   "execution_count": 5,
   "id": "3c6c0cd9-204d-488f-875e-6c64011beed6",
   "metadata": {
    "collapsed": true,
    "jupyter": {
     "outputs_hidden": true
    },
    "tags": [],
    "vscode": {
     "languageId": "r"
    }
   },
   "outputs": [
    {
     "name": "stderr",
     "output_type": "stream",
     "text": [
      "Warning message:\n",
      "\"Unknown file type: h5ad\"\n",
      "Warning message:\n",
      "\"'assay' not set, setting to 'RNA'\"\n",
      "Creating h5Seurat file for version 3.1.5.9900\n",
      "\n",
      "Adding X as data\n",
      "\n",
      "Adding X as counts\n",
      "\n",
      "Adding meta.features from var\n",
      "\n"
     ]
    }
   ],
   "source": [
    "#SC RNA-seq data\n",
    "\n",
    "library(Seurat)\n",
    "library(SeuratData)\n",
    "library(SeuratDisk)\n",
    "\n",
    "Convert(\"scRNA/adata_raw_wctrl.h5ad\", dest = \"h5seurat\", overwrite = TRUE)\n"
   ]
  },
  {
   "cell_type": "code",
   "execution_count": 6,
   "id": "66c69a73-913b-4f29-895d-b70aed335e16",
   "metadata": {
    "collapsed": true,
    "jupyter": {
     "outputs_hidden": true
    },
    "tags": [],
    "vscode": {
     "languageId": "r"
    }
   },
   "outputs": [
    {
     "name": "stderr",
     "output_type": "stream",
     "text": [
      "Validating h5Seurat file\n",
      "\n",
      "Initializing RNA with data\n",
      "\n",
      "Adding counts for RNA\n",
      "\n",
      "Adding feature-level metadata for RNA\n",
      "\n",
      "Adding command information\n",
      "\n",
      "Adding tool-specific results\n",
      "\n"
     ]
    }
   ],
   "source": [
    "sce <- LoadH5Seurat(\"scRNA/adata_raw_wctrl.h5seurat\",meta.data = FALSE, misc = FALSE)\n"
   ]
  },
  {
   "cell_type": "code",
   "execution_count": 7,
   "id": "c91e3b0b-2d6d-4707-960a-abf82925ba75",
   "metadata": {
    "tags": [],
    "vscode": {
     "languageId": "r"
    }
   },
   "outputs": [
    {
     "data": {
      "text/plain": [
       "\n",
       "   6    8    2    0    1    5    7    4    9    3 \n",
       "1436  668 2426 3839 2586 1614  873 1814  379 2363 "
      ]
     },
     "metadata": {},
     "output_type": "display_data"
    }
   ],
   "source": [
    "meta <- read.table(\"scRNA/adata_clustered_wctrl_harm_cluster_merged_meta.tsv\",sep=\"\\t\",row.names=1,header=T,as.is=TRUE)\n",
    "\n",
    "sce <- AddMetaData(object = sce,metadata = meta)\n",
    "Idents(sce) <- \"leiden_0.25\"\n",
    "table(Idents(sce))"
   ]
  },
  {
   "cell_type": "code",
   "execution_count": 8,
   "id": "d60d883e-5c25-4c6f-9f80-778c22d2c821",
   "metadata": {
    "collapsed": true,
    "jupyter": {
     "outputs_hidden": true
    },
    "tags": [],
    "vscode": {
     "languageId": "r"
    }
   },
   "outputs": [
    {
     "name": "stderr",
     "output_type": "stream",
     "text": [
      "Calculating cluster 6\n",
      "\n",
      "Calculating cluster 8\n",
      "\n",
      "Calculating cluster 2\n",
      "\n",
      "Calculating cluster 0\n",
      "\n",
      "Calculating cluster 1\n",
      "\n",
      "Warning message in FindMarkers.default(object = data.use, slot = data.slot, counts = counts, :\n",
      "\"No features pass logfc.threshold threshold; returning empty data.frame\"\n",
      "Calculating cluster 5\n",
      "\n",
      "Calculating cluster 7\n",
      "\n",
      "Calculating cluster 4\n",
      "\n",
      "Calculating cluster 9\n",
      "\n",
      "Calculating cluster 3\n",
      "\n"
     ]
    },
    {
     "data": {
      "text/html": [
       "<table class=\"dataframe\">\n",
       "<caption>A data.frame: 6 x 7</caption>\n",
       "<thead>\n",
       "\t<tr><th></th><th scope=col>p_val</th><th scope=col>avg_log2FC</th><th scope=col>pct.1</th><th scope=col>pct.2</th><th scope=col>p_val_adj</th><th scope=col>cluster</th><th scope=col>gene</th></tr>\n",
       "\t<tr><th></th><th scope=col>&lt;dbl&gt;</th><th scope=col>&lt;dbl&gt;</th><th scope=col>&lt;dbl&gt;</th><th scope=col>&lt;dbl&gt;</th><th scope=col>&lt;dbl&gt;</th><th scope=col>&lt;fct&gt;</th><th scope=col>&lt;chr&gt;</th></tr>\n",
       "</thead>\n",
       "<tbody>\n",
       "\t<tr><th scope=row>MLLT3</th><td>0</td><td> 3.063258</td><td>0.974</td><td>0.489</td><td>0</td><td>6</td><td>MLLT3 </td></tr>\n",
       "\t<tr><th scope=row>SLIT2</th><td>0</td><td> 2.856964</td><td>0.841</td><td>0.299</td><td>0</td><td>6</td><td>SLIT2 </td></tr>\n",
       "\t<tr><th scope=row>NRXN3</th><td>0</td><td> 2.174819</td><td>0.953</td><td>0.700</td><td>0</td><td>6</td><td>NRXN3 </td></tr>\n",
       "\t<tr><th scope=row>RNF220</th><td>0</td><td> 2.141785</td><td>0.847</td><td>0.519</td><td>0</td><td>6</td><td>RNF220</td></tr>\n",
       "\t<tr><th scope=row>FREM1</th><td>0</td><td> 2.126039</td><td>0.809</td><td>0.274</td><td>0</td><td>6</td><td>FREM1 </td></tr>\n",
       "\t<tr><th scope=row>XACT</th><td>0</td><td>-2.747762</td><td>0.334</td><td>0.804</td><td>0</td><td>6</td><td>XACT  </td></tr>\n",
       "</tbody>\n",
       "</table>\n"
      ],
      "text/latex": [
       "A data.frame: 6 x 7\n",
       "\\begin{tabular}{r|lllllll}\n",
       "  & p\\_val & avg\\_log2FC & pct.1 & pct.2 & p\\_val\\_adj & cluster & gene\\\\\n",
       "  & <dbl> & <dbl> & <dbl> & <dbl> & <dbl> & <fct> & <chr>\\\\\n",
       "\\hline\n",
       "\tMLLT3 & 0 &  3.063258 & 0.974 & 0.489 & 0 & 6 & MLLT3 \\\\\n",
       "\tSLIT2 & 0 &  2.856964 & 0.841 & 0.299 & 0 & 6 & SLIT2 \\\\\n",
       "\tNRXN3 & 0 &  2.174819 & 0.953 & 0.700 & 0 & 6 & NRXN3 \\\\\n",
       "\tRNF220 & 0 &  2.141785 & 0.847 & 0.519 & 0 & 6 & RNF220\\\\\n",
       "\tFREM1 & 0 &  2.126039 & 0.809 & 0.274 & 0 & 6 & FREM1 \\\\\n",
       "\tXACT & 0 & -2.747762 & 0.334 & 0.804 & 0 & 6 & XACT  \\\\\n",
       "\\end{tabular}\n"
      ],
      "text/markdown": [
       "\n",
       "A data.frame: 6 x 7\n",
       "\n",
       "| <!--/--> | p_val &lt;dbl&gt; | avg_log2FC &lt;dbl&gt; | pct.1 &lt;dbl&gt; | pct.2 &lt;dbl&gt; | p_val_adj &lt;dbl&gt; | cluster &lt;fct&gt; | gene &lt;chr&gt; |\n",
       "|---|---|---|---|---|---|---|---|\n",
       "| MLLT3 | 0 |  3.063258 | 0.974 | 0.489 | 0 | 6 | MLLT3  |\n",
       "| SLIT2 | 0 |  2.856964 | 0.841 | 0.299 | 0 | 6 | SLIT2  |\n",
       "| NRXN3 | 0 |  2.174819 | 0.953 | 0.700 | 0 | 6 | NRXN3  |\n",
       "| RNF220 | 0 |  2.141785 | 0.847 | 0.519 | 0 | 6 | RNF220 |\n",
       "| FREM1 | 0 |  2.126039 | 0.809 | 0.274 | 0 | 6 | FREM1  |\n",
       "| XACT | 0 | -2.747762 | 0.334 | 0.804 | 0 | 6 | XACT   |\n",
       "\n"
      ],
      "text/plain": [
       "       p_val avg_log2FC pct.1 pct.2 p_val_adj cluster gene  \n",
       "MLLT3  0      3.063258  0.974 0.489 0         6       MLLT3 \n",
       "SLIT2  0      2.856964  0.841 0.299 0         6       SLIT2 \n",
       "NRXN3  0      2.174819  0.953 0.700 0         6       NRXN3 \n",
       "RNF220 0      2.141785  0.847 0.519 0         6       RNF220\n",
       "FREM1  0      2.126039  0.809 0.274 0         6       FREM1 \n",
       "XACT   0     -2.747762  0.334 0.804 0         6       XACT  "
      ]
     },
     "metadata": {},
     "output_type": "display_data"
    }
   ],
   "source": [
    "markers <- FindAllMarkers(sce,test.use = 'wilcox',logfc.threshold = 2,min.pct = 0.25)\n",
    "head(markers)"
   ]
  },
  {
   "cell_type": "code",
   "execution_count": 12,
   "id": "00963772-a6f5-49d4-b10b-3ed02eee3f5a",
   "metadata": {
    "vscode": {
     "languageId": "r"
    }
   },
   "outputs": [],
   "source": [
    "sce_obj <- as.SingleCellExperiment(sce)"
   ]
  },
  {
   "cell_type": "code",
   "execution_count": 150,
   "id": "4952f430-8ddc-40e6-befe-70b32a71696b",
   "metadata": {
    "vscode": {
     "languageId": "r"
    }
   },
   "outputs": [],
   "source": [
    "#prepare data, only take overlapping genes between bulk and single-cell experiment"
   ]
  },
  {
   "cell_type": "code",
   "execution_count": 10,
   "id": "50799612-c1d2-4107-bf6c-13f2755a7a34",
   "metadata": {
    "vscode": {
     "languageId": "r"
    }
   },
   "outputs": [],
   "source": [
    "bulk.mtx <- exprs(minimalSet)"
   ]
  },
  {
   "cell_type": "code",
   "execution_count": 11,
   "id": "3959cb7f-f331-4331-8b81-e0b01202f62a",
   "metadata": {
    "vscode": {
     "languageId": "r"
    }
   },
   "outputs": [
    {
     "name": "stdout",
     "output_type": "stream",
     "text": [
      "[1] 222\n"
     ]
    }
   ],
   "source": [
    "marker_genes <- unique(markers$gene)\n",
    "marker_genes <- intersect(marker_genes,row.names(bulk.mtx))\n",
    "print(length(marker_genes))"
   ]
  },
  {
   "cell_type": "code",
   "execution_count": 13,
   "id": "9b0db11e-1dd5-4ae7-a4cb-fcc3ebcc8c62",
   "metadata": {
    "vscode": {
     "languageId": "r"
    }
   },
   "outputs": [
    {
     "name": "stdout",
     "output_type": "stream",
     "text": [
      "[1] 23443\n"
     ]
    }
   ],
   "source": [
    "overlapping_genes <- intersect(row.names(sce_obj),row.names(bulk.mtx))\n",
    "print(length(overlapping_genes))"
   ]
  },
  {
   "cell_type": "code",
   "execution_count": 14,
   "id": "bcaa1217-faae-4e63-b57b-bb043fea1b4d",
   "metadata": {
    "vscode": {
     "languageId": "r"
    }
   },
   "outputs": [],
   "source": [
    "sce_obj <- sce_obj[overlapping_genes,]"
   ]
  },
  {
   "cell_type": "code",
   "execution_count": 15,
   "id": "47902beb-e637-4186-9634-91b322180ab7",
   "metadata": {
    "vscode": {
     "languageId": "r"
    }
   },
   "outputs": [
    {
     "data": {
      "text/html": [
       "<style>\n",
       ".list-inline {list-style: none; margin:0; padding: 0}\n",
       ".list-inline>li {display: inline-block}\n",
       ".list-inline>li:not(:last-child)::after {content: \"\\00b7\"; padding: 0 .5ex}\n",
       "</style>\n",
       "<ol class=list-inline><li>23443</li><li>95</li></ol>\n"
      ],
      "text/latex": [
       "\\begin{enumerate*}\n",
       "\\item 23443\n",
       "\\item 95\n",
       "\\end{enumerate*}\n"
      ],
      "text/markdown": [
       "1. 23443\n",
       "2. 95\n",
       "\n",
       "\n"
      ],
      "text/plain": [
       "[1] 23443    95"
      ]
     },
     "metadata": {},
     "output_type": "display_data"
    }
   ],
   "source": [
    "bulk.mtx <- bulk.mtx[overlapping_genes,]\n",
    "bulk.mtx <- na.omit(bulk.mtx)\n",
    "dim(bulk.mtx)"
   ]
  },
  {
   "cell_type": "code",
   "execution_count": 16,
   "id": "51a7d0f9-75ad-4a6a-91d9-1ffbc8a71a0f",
   "metadata": {
    "vscode": {
     "languageId": "r"
    }
   },
   "outputs": [
    {
     "data": {
      "text/plain": [
       "\n",
       "       iPSC_ctrl iPSC_prepat_d5_1 iPSC_prepat_d5_2 \n",
       "            2366             8068             7564 "
      ]
     },
     "metadata": {},
     "output_type": "display_data"
    }
   ],
   "source": [
    "table(sce_obj$sample)"
   ]
  },
  {
   "cell_type": "code",
   "execution_count": 17,
   "id": "2831599f-54a0-470d-8a61-67cd2c20af81",
   "metadata": {
    "collapsed": true,
    "jupyter": {
     "outputs_hidden": true
    },
    "tags": [],
    "vscode": {
     "languageId": "r"
    }
   },
   "outputs": [
    {
     "name": "stderr",
     "output_type": "stream",
     "text": [
      "Creating Relative Abudance Matrix...\n",
      "\n",
      "Creating Variance Matrix...\n",
      "\n",
      "Creating Library Size Matrix...\n",
      "\n",
      "Used 20331 common genes...\n",
      "\n",
      "Used 9 cell types in deconvolution...\n",
      "\n",
      "X1 has common genes 14097 ...\n",
      "\n",
      "X10 has common genes 14396 ...\n",
      "\n",
      "X11 has common genes 14590 ...\n",
      "\n",
      "X12 has common genes 14685 ...\n",
      "\n",
      "X13 has common genes 14832 ...\n",
      "\n",
      "X14 has common genes 14620 ...\n",
      "\n",
      "X15 has common genes 14600 ...\n",
      "\n",
      "X16 has common genes 14697 ...\n",
      "\n",
      "X17 has common genes 14813 ...\n",
      "\n",
      "X18 has common genes 14677 ...\n",
      "\n",
      "X19 has common genes 14945 ...\n",
      "\n",
      "X2 has common genes 14261 ...\n",
      "\n",
      "X20 has common genes 15097 ...\n",
      "\n",
      "X21 has common genes 14597 ...\n",
      "\n",
      "X22 has common genes 14676 ...\n",
      "\n",
      "X23 has common genes 15049 ...\n",
      "\n",
      "X24 has common genes 15091 ...\n",
      "\n",
      "X25 has common genes 13916 ...\n",
      "\n",
      "X26 has common genes 14514 ...\n",
      "\n",
      "X27 has common genes 14477 ...\n",
      "\n",
      "X28 has common genes 14660 ...\n",
      "\n",
      "X29 has common genes 14930 ...\n",
      "\n",
      "X3 has common genes 14331 ...\n",
      "\n",
      "X30 has common genes 14466 ...\n",
      "\n",
      "X31 has common genes 14727 ...\n",
      "\n",
      "X32 has common genes 14495 ...\n",
      "\n",
      "X33 has common genes 14677 ...\n",
      "\n",
      "X34 has common genes 14079 ...\n",
      "\n",
      "X35 has common genes 14072 ...\n",
      "\n",
      "X36 has common genes 14069 ...\n",
      "\n",
      "X37 has common genes 14638 ...\n",
      "\n",
      "X38 has common genes 14559 ...\n",
      "\n",
      "X39 has common genes 14739 ...\n",
      "\n",
      "X4 has common genes 14404 ...\n",
      "\n",
      "X40 has common genes 14528 ...\n",
      "\n",
      "X41 has common genes 14631 ...\n",
      "\n",
      "X42 has common genes 14765 ...\n",
      "\n",
      "X43 has common genes 14788 ...\n",
      "\n",
      "X44 has common genes 14725 ...\n",
      "\n",
      "X45 has common genes 14502 ...\n",
      "\n",
      "X46 has common genes 14343 ...\n",
      "\n",
      "X47 has common genes 14343 ...\n",
      "\n",
      "X48 has common genes 14290 ...\n",
      "\n",
      "X49 has common genes 14664 ...\n",
      "\n",
      "X5 has common genes 14536 ...\n",
      "\n",
      "X50 has common genes 14570 ...\n",
      "\n",
      "X51 has common genes 14444 ...\n",
      "\n",
      "X52 has common genes 14152 ...\n",
      "\n",
      "X53 has common genes 14604 ...\n",
      "\n",
      "X54 has common genes 14384 ...\n",
      "\n",
      "X55 has common genes 14630 ...\n",
      "\n",
      "X56 has common genes 14412 ...\n",
      "\n",
      "X57 has common genes 14481 ...\n",
      "\n",
      "X58 has common genes 14635 ...\n",
      "\n",
      "X59 has common genes 14678 ...\n",
      "\n",
      "X6 has common genes 14483 ...\n",
      "\n",
      "X60 has common genes 14933 ...\n",
      "\n",
      "X61 has common genes 14601 ...\n",
      "\n",
      "X62 has common genes 14640 ...\n",
      "\n",
      "X63 has common genes 14147 ...\n",
      "\n",
      "X64 has common genes 14621 ...\n",
      "\n",
      "X65 has common genes 14791 ...\n",
      "\n",
      "X66 has common genes 14883 ...\n",
      "\n",
      "X67 has common genes 14878 ...\n",
      "\n",
      "X68 has common genes 14945 ...\n",
      "\n",
      "X69 has common genes 14845 ...\n",
      "\n",
      "X7 has common genes 14511 ...\n",
      "\n",
      "X70 has common genes 14681 ...\n",
      "\n",
      "X71 has common genes 14210 ...\n",
      "\n",
      "X73 has common genes 14281 ...\n",
      "\n",
      "X74 has common genes 14867 ...\n",
      "\n",
      "X75 has common genes 14489 ...\n",
      "\n",
      "X76 has common genes 14516 ...\n",
      "\n",
      "X77 has common genes 14460 ...\n",
      "\n",
      "X78 has common genes 14838 ...\n",
      "\n",
      "X79 has common genes 14643 ...\n",
      "\n",
      "X8 has common genes 14732 ...\n",
      "\n",
      "X80 has common genes 14534 ...\n",
      "\n",
      "X81 has common genes 14585 ...\n",
      "\n",
      "X82 has common genes 14627 ...\n",
      "\n",
      "X83 has common genes 14616 ...\n",
      "\n",
      "X84 has common genes 14370 ...\n",
      "\n",
      "X85 has common genes 14444 ...\n",
      "\n",
      "X86 has common genes 14972 ...\n",
      "\n",
      "X87 has common genes 13940 ...\n",
      "\n",
      "X88 has common genes 14479 ...\n",
      "\n",
      "X89 has common genes 14448 ...\n",
      "\n",
      "X9 has common genes 14616 ...\n",
      "\n",
      "X90 has common genes 14803 ...\n",
      "\n",
      "X91 has common genes 14632 ...\n",
      "\n",
      "X92 has common genes 14222 ...\n",
      "\n",
      "X93 has common genes 14595 ...\n",
      "\n",
      "X94 has common genes 14445 ...\n",
      "\n",
      "X95 has common genes 14370 ...\n",
      "\n",
      "X96 has common genes 14439 ...\n",
      "\n"
     ]
    }
   ],
   "source": [
    "# Estimate cell type proportions\n",
    "Est.prop.GSE50244 = music_prop(bulk.mtx = bulk.mtx,\n",
    "                               sc.sce = sce_obj, \n",
    "                               clusters = 'leiden_0.25',\n",
    "                               samples = 'sample',\n",
    "                               select.ct = NULL\n",
    "                               , verbose = T)"
   ]
  },
  {
   "cell_type": "code",
   "execution_count": 18,
   "id": "b512048d-2371-4492-b011-30e24611c03d",
   "metadata": {
    "vscode": {
     "languageId": "r"
    }
   },
   "outputs": [
    {
     "data": {
      "text/html": [
       "<style>\n",
       ".list-inline {list-style: none; margin:0; padding: 0}\n",
       ".list-inline>li {display: inline-block}\n",
       ".list-inline>li:not(:last-child)::after {content: \"\\00b7\"; padding: 0 .5ex}\n",
       "</style>\n",
       "<ol class=list-inline><li>'Est.prop.weighted'</li><li>'Est.prop.allgene'</li><li>'Weight.gene'</li><li>'r.squared.full'</li><li>'Var.prop'</li></ol>\n"
      ],
      "text/latex": [
       "\\begin{enumerate*}\n",
       "\\item 'Est.prop.weighted'\n",
       "\\item 'Est.prop.allgene'\n",
       "\\item 'Weight.gene'\n",
       "\\item 'r.squared.full'\n",
       "\\item 'Var.prop'\n",
       "\\end{enumerate*}\n"
      ],
      "text/markdown": [
       "1. 'Est.prop.weighted'\n",
       "2. 'Est.prop.allgene'\n",
       "3. 'Weight.gene'\n",
       "4. 'r.squared.full'\n",
       "5. 'Var.prop'\n",
       "\n",
       "\n"
      ],
      "text/plain": [
       "[1] \"Est.prop.weighted\" \"Est.prop.allgene\"  \"Weight.gene\"      \n",
       "[4] \"r.squared.full\"    \"Var.prop\"         "
      ]
     },
     "metadata": {},
     "output_type": "display_data"
    },
    {
     "name": "stderr",
     "output_type": "stream",
     "text": [
      "Warning message in type.convert.default(X[[i]], ...):\n",
      "\"'as.is' should be specified by the caller; using TRUE\"\n",
      "Warning message in type.convert.default(X[[i]], ...):\n",
      "\"'as.is' should be specified by the caller; using TRUE\"\n",
      "Warning message in type.convert.default(X[[i]], ...):\n",
      "\"'as.is' should be specified by the caller; using TRUE\"\n",
      "Warning message in type.convert.default(X[[i]], ...):\n",
      "\"'as.is' should be specified by the caller; using TRUE\"\n"
     ]
    }
   ],
   "source": [
    "names(Est.prop.GSE50244)\n",
    "\n",
    "m.prop.GSE50244 = rbind(melt(Est.prop.GSE50244$Est.prop.weighted), \n",
    "                        melt(Est.prop.GSE50244$Est.prop.allgene))\n",
    "\n",
    "colnames(m.prop.GSE50244) = c('Sub', 'CellType', 'Prop')\n",
    "m.prop.GSE50244$CellType = factor(m.prop.GSE50244$CellType, levels = unique(m.prop.GSE50244$CellType))\n",
    "m.prop.GSE50244$Method = factor(rep(c('MuSiC', 'NNLS'), each = 95*length(unique(m.prop.GSE50244$CellType))), levels = c('MuSiC', 'NNLS'))\n",
    "write.table(m.prop.GSE50244,\"bulk/music_wctrl/proportions_0.25.tsv\",sep=\"\\t\")"
   ]
  },
  {
   "cell_type": "code",
   "execution_count": null,
   "id": "371846af-d4dd-4bac-ad70-812336e4b218",
   "metadata": {
    "vscode": {
     "languageId": "r"
    }
   },
   "outputs": [],
   "source": []
  },
  {
   "cell_type": "code",
   "execution_count": null,
   "id": "06a6c7d7-8ec3-4595-bf1c-6a9c3d1017b0",
   "metadata": {
    "vscode": {
     "languageId": "r"
    }
   },
   "outputs": [],
   "source": []
  }
 ],
 "metadata": {
  "kernelspec": {
   "display_name": "R_deconv",
   "language": "R",
   "name": "r_deconv"
  },
  "language_info": {
   "codemirror_mode": "r",
   "file_extension": ".r",
   "mimetype": "text/x-r-source",
   "name": "R",
   "pygments_lexer": "r",
   "version": "4.2.3"
  }
 },
 "nbformat": 4,
 "nbformat_minor": 5
}
