{
 "cells": [
  {
   "cell_type": "code",
   "execution_count": null,
   "id": "c952cb4f",
   "metadata": {
    "vscode": {
     "languageId": "r"
    }
   },
   "outputs": [],
   "source": [
    "library(Seurat)\n",
    "library(dplyr)\n",
    "library(tidyverse)\n",
    "library(MetBrewer)\n",
    "library(reshape)\n",
    "library(data.table)"
   ]
  },
  {
   "cell_type": "code",
   "execution_count": null,
   "id": "1172febb",
   "metadata": {
    "vscode": {
     "languageId": "r"
    }
   },
   "outputs": [],
   "source": [
    "#Read in data (highres clusters)\n",
    "seurat <- readRDS(\"seurat_aggr.rds\")\n"
   ]
  },
  {
   "cell_type": "code",
   "execution_count": null,
   "id": "6825c73b-bf70-4a69-9954-27740133d2f9",
   "metadata": {
    "vscode": {
     "languageId": "r"
    }
   },
   "outputs": [],
   "source": [
    "#Read in data from reference atlas\n",
    "seurat.regev <- readRDS('Regev_2020_human_mouse_adult_ENS/seurat.rds')\n",
    "seurat.ginty <- readRDS('Ginty_2020_mouse_dev_adult_DRG/seurat.rds')\n",
    "seurat.renthal <- readRDS('Renthal_2022_human_mouse_adult_TG/seurat.rds')\n",
    "seurat.briscoe <- readRDS('Briscoe_2021_human_mouse_dev_spinal_cord/seurat.rds')\n",
    "seurat.levine <- readRDS('Levine_2023_human_adult_spinal_cord/seurat.rds')\n",
    "seurat.clark <- readRDS('Clark_2020_human_dev_retina/seurat.rds')\n",
    "seurat.LNall <- readRDS('Linnarson/seurat.rds')\n",
    "seurat.braun <- readRDS('Braun_2023_human_dev_brain/seurat.rds')\n"
   ]
  },
  {
   "cell_type": "code",
   "execution_count": 4,
   "id": "4908712b-d4ea-4397-bed9-9703363d27ea",
   "metadata": {
    "vscode": {
     "languageId": "r"
    }
   },
   "outputs": [],
   "source": [
    "#Make a list for seurat object\n",
    "seurat.list <- list('Linnarson_mouse_all' = seurat.LNall,\n",
    "                   'Braun' = seurat.braun,\n",
    "                   'Briscoe' = seurat.briscoe,\n",
    "                   'Clark' = seurat.clark,\n",
    "                   'Ginty' = seurat.ginty,\n",
    "                   'Levine' = seurat.levine,\n",
    "                   'Regev_mouse' = seurat.regev,\n",
    "                   'Renthal_mouse' = seurat.renthal)\n"
   ]
  },
  {
   "cell_type": "code",
   "execution_count": null,
   "id": "99b2ebd9-fb4a-420b-972f-a84c1951beb2",
   "metadata": {
    "vscode": {
     "languageId": "r"
    }
   },
   "outputs": [],
   "source": [
    "##Import label transfer results\n",
    "#Define folder for anchor storage\n",
    "master.dir <- 'Label_transfer/'\n",
    "\n",
    "#Define dataset in use\n",
    "data.dir <- 'iGlut_pre/'\n",
    "\n",
    "ref.atlas <- c('Braun/', 'Linnarson_mouse_all/', 'Clark/', 'Briscoe/', \n",
    "               'Levine/', 'Ginty/', 'Regev_mouse/', 'Renthal_mouse/')\n",
    "\n",
    "ref.name <- c('Braun', 'LNall', 'Clark', 'Briscoe', \n",
    "               'Levine', 'Ginty', 'Regev', 'Renthal')\n",
    "\n",
    "conditions <- c('cca_l', 'cca_n', 'cca_mkrn')\n"
   ]
  },
  {
   "cell_type": "code",
   "execution_count": 6,
   "id": "32fab23e-179f-459f-bd06-329fa538f3cc",
   "metadata": {
    "vscode": {
     "languageId": "r"
    }
   },
   "outputs": [],
   "source": [
    "#Generate anchor list per reference\n",
    "anchor.braun <- list()\n",
    "anchor.LNall <- list()\n",
    "anchor.clark <- list()\n",
    "anchor.briscoe <- list()\n",
    "anchor.levine <- list()\n",
    "anchor.ginty <- list()\n",
    "anchor.regev <- list()\n",
    "anchor.renthal <- list()\n",
    "\n",
    "anchor.list <- list('Braun' = anchor.braun, \n",
    "                    'LNall' = anchor.LNall, \n",
    "                    'Clark' = anchor.clark, \n",
    "                    'Briscoe' = anchor.briscoe,\n",
    "                    'Levine' = anchor.levine, \n",
    "                    'Ginty' = anchor.ginty, \n",
    "                    'Regev' = anchor.regev, \n",
    "                    'Renthal' = anchor.renthal)\n"
   ]
  },
  {
   "cell_type": "code",
   "execution_count": 7,
   "id": "a774d6f2-42a4-4906-963e-d19ea13f8b67",
   "metadata": {
    "vscode": {
     "languageId": "r"
    }
   },
   "outputs": [],
   "source": [
    "#Read in all anchors\n",
    "for(i in seq_along(ref.name)){\n",
    "    for(x in seq_along(conditions)){\n",
    "        element <- readRDS(paste0(master.dir, data.dir, ref.atlas[i], conditions[x],'.rds'))\n",
    "        element_name <- paste0(ref.name[i],'_',conditions[x])\n",
    "        anchor.list[[i]][[element_name]] <- element\n",
    "    }\n",
    "}\n"
   ]
  },
  {
   "cell_type": "code",
   "execution_count": 9,
   "id": "224ca8df-ebb3-44e9-a7a3-ae98147e526e",
   "metadata": {
    "vscode": {
     "languageId": "r"
    }
   },
   "outputs": [],
   "source": [
    "# Setting the number of features to be transferred:\n",
    "ntransfer = 22"
   ]
  },
  {
   "cell_type": "code",
   "execution_count": 10,
   "id": "51400e66-86cc-4a8e-b9ab-67b1374e01b3",
   "metadata": {
    "vscode": {
     "languageId": "r"
    }
   },
   "outputs": [],
   "source": [
    "#Create a list for storing predictions\n",
    "pd.list <- list()\n",
    "for(i in 1:ntransfer){\n",
    "    pd.list[[i]] <- list()\n",
    "}"
   ]
  },
  {
   "cell_type": "code",
   "execution_count": 11,
   "id": "ba06848f-11d7-4f25-8c79-f1190c8a7325",
   "metadata": {
    "vscode": {
     "languageId": "r"
    }
   },
   "outputs": [],
   "source": [
    "#Create a list of refdata to be transferred\n",
    "ref.list <- list(seurat.braun$Subregion,\n",
    "                 seurat.braun$Subclass,\n",
    "                 seurat.braun$CommonestSubdivision,\n",
    "                 seurat.braun$AutoAnnotation,\n",
    "                 seurat.braun$AutoAnnotationDefs,\n",
    "                 seurat.LNall$Subclass,\n",
    "                 seurat.LNall$ClusterName,\n",
    "                 seurat.LNall$Taxonomy_group,\n",
    "                 seurat.LNall$Region,\n",
    "                 seurat.LNall$Tissue,\n",
    "                 seurat.LNall$atlas,\n",
    "                 seurat.clark$umap2_CellType,\n",
    "                 seurat.clark$age,\n",
    "                 seurat.briscoe$Type_step1,\n",
    "                 seurat.briscoe$Type_step2,\n",
    "                 seurat.levine$top_level_annotation,\n",
    "                 seurat.levine$subtype_annotation,\n",
    "                 seurat.ginty$annotation,\n",
    "                 seurat.regev$Annotation,\n",
    "                 seurat.regev$Type,\n",
    "                 seurat.regev$Region,\n",
    "                 seurat.renthal$subtype)\n"
   ]
  },
  {
   "cell_type": "code",
   "execution_count": 12,
   "id": "ec04452b-0c32-42da-80cc-6f83b05fdcfe",
   "metadata": {
    "vscode": {
     "languageId": "r"
    }
   },
   "outputs": [],
   "source": [
    "#Create a list for anchor input\n",
    "anchor.input <- list(anchor.list$Braun,\n",
    "                     anchor.list$Braun,\n",
    "                     anchor.list$Braun,\n",
    "                     anchor.list$Braun,\n",
    "                     anchor.list$Braun,\n",
    "                     anchor.list$LNall,\n",
    "                     anchor.list$LNall,\n",
    "                     anchor.list$LNall,\n",
    "                     anchor.list$LNall,\n",
    "                     anchor.list$LNall,\n",
    "                     anchor.list$LNall,\n",
    "                     anchor.list$Clark,\n",
    "                     anchor.list$Clark,\n",
    "                     anchor.list$Briscoe,\n",
    "                     anchor.list$Briscoe,\n",
    "                     anchor.list$Levine,\n",
    "                     anchor.list$Levine,\n",
    "                     anchor.list$Ginty,\n",
    "                     anchor.list$Regev,\n",
    "                     anchor.list$Regev,\n",
    "                     anchor.list$Regev,\n",
    "                     anchor.list$Renthal)\n"
   ]
  },
  {
   "cell_type": "code",
   "execution_count": null,
   "id": "b52cab9a",
   "metadata": {
    "vscode": {
     "languageId": "r"
    }
   },
   "outputs": [],
   "source": [
    "for(i in seq_along(anchor.input)){\n",
    "    for(x in seq_along(anchor.input[[i]])){\n",
    "            element <- TransferData(anchorset = anchor.input[[i]][[x]],\n",
    "                            refdata = ref.list[[i]],\n",
    "                            dims = 1:20,\n",
    "                            weight.reduction = 'cca')\n",
    "            element_name <- names(anchor.input[[i]][x])\n",
    "            pd.list[[i]][[element_name]] <- element\n",
    "    }\n",
    "}"
   ]
  },
  {
   "cell_type": "code",
   "execution_count": 14,
   "id": "c2efb35f-fa17-464d-8cc4-8af8ed494711",
   "metadata": {
    "vscode": {
     "languageId": "r"
    }
   },
   "outputs": [],
   "source": [
    "#Extracting predicted.id \n",
    "pd.id <- list()\n",
    "for(i in 1:ntransfer){\n",
    "    pd.id[[i]] <- list()\n",
    "}\n"
   ]
  },
  {
   "cell_type": "code",
   "execution_count": 15,
   "id": "9c75ac26-8cec-4d09-8ad4-4c05c2cc62af",
   "metadata": {
    "vscode": {
     "languageId": "r"
    }
   },
   "outputs": [],
   "source": [
    "#Extracting predicted.id\n",
    "for(i in seq_along(pd.list)){\n",
    "    for(x in seq_along(pd.list[[i]])){\n",
    "            element <- pd.list[[i]][[x]]['predicted.id']\n",
    "            element_name <- names(pd.list[[i]][x])\n",
    "            pd.id[[i]][element_name] <- element\n",
    "    }\n",
    "}\n"
   ]
  },
  {
   "cell_type": "code",
   "execution_count": 16,
   "id": "359c9c9b-d009-49cb-90cc-797f1fb32a36",
   "metadata": {
    "vscode": {
     "languageId": "r"
    }
   },
   "outputs": [],
   "source": [
    "#Convert pd.id list to dataframe\n",
    "for (i in seq_along(pd.id)) {\n",
    "  pd.id[[i]] <- do.call(data.frame, pd.id[[i]])\n",
    "  rownames(pd.id[[i]]) <- rownames(pd.list[[i]][[1]])\n",
    "}\n"
   ]
  },
  {
   "cell_type": "code",
   "execution_count": 17,
   "id": "6caf5297-cf6d-4133-b3f7-4748032f12b7",
   "metadata": {
    "tags": [],
    "vscode": {
     "languageId": "r"
    }
   },
   "outputs": [
    {
     "name": "stderr",
     "output_type": "stream",
     "text": [
      "Package 'mclust' version 6.0.0\n",
      "Type 'citation(\"mclust\")' for citing this R package in publications.\n",
      "\n",
      "\n",
      "Attaching package: 'mclust'\n",
      "\n",
      "\n",
      "The following object is masked from 'package:purrr':\n",
      "\n",
      "    map\n",
      "\n",
      "\n"
     ]
    }
   ],
   "source": [
    "library(mclust) #For voting\n",
    "\n",
    "#Creating character vector to store voting results\n",
    "vote.list <- list()\n",
    "for(i in 1:ntransfer){\n",
    "    vote.list[[i]] <- character()\n",
    "}\n"
   ]
  },
  {
   "cell_type": "code",
   "execution_count": 18,
   "id": "7f04a89d-1a4f-4fff-9582-afc0c2b87fa5",
   "metadata": {
    "vscode": {
     "languageId": "r"
    }
   },
   "outputs": [],
   "source": [
    "#Voting\n",
    "for(i in seq_along(pd.id)){\n",
    "    for(x in 1:nrow(pd.id[[i]])){\n",
    "        vote.list[[i]][x] <- majorityVote(as.character(pd.id[[i]][x,]))$majority\n",
    "    }\n",
    "}\n"
   ]
  },
  {
   "cell_type": "code",
   "execution_count": 19,
   "id": "b5446e50-f356-4512-9af5-03fe6068909d",
   "metadata": {
    "vscode": {
     "languageId": "r"
    }
   },
   "outputs": [],
   "source": [
    "#Adding votes to pd.id dataframe\n",
    "for(x in seq_along(pd.id)){\n",
    "    pd.id[[x]][,(ncol(pd.id[[x]])+1)] <- vote.list[[x]]\n",
    "}\n"
   ]
  },
  {
   "cell_type": "code",
   "execution_count": 20,
   "id": "a985b9bc-71a8-4868-be86-d27c1c306a64",
   "metadata": {
    "vscode": {
     "languageId": "r"
    }
   },
   "outputs": [],
   "source": [
    "#Compare between methods and see which ones are the best\n",
    "comparison <- list()\n",
    "for(i in 1:ntransfer){\n",
    "    comparison[[i]] <- data.frame()\n",
    "}\n",
    "\n",
    "for(i in seq_along(comparison)){\n",
    "    for(x in 1:nrow(pd.id[[i]])){\n",
    "        element <- pd.id[[i]][x,1:5] %in% pd.id[[i]][x,6]\n",
    "        comparison[[i]] <- rbind(comparison[[i]], element)\n",
    "    }\n",
    "}"
   ]
  },
  {
   "cell_type": "code",
   "execution_count": null,
   "id": "afcfa5b6",
   "metadata": {
    "vscode": {
     "languageId": "r"
    }
   },
   "outputs": [],
   "source": [
    "for(x in seq_along(comparison)){\n",
    "    colnames(comparison[[x]]) <- colnames(pd.id[[x]][1:5])\n",
    "    print(colSums(comparison[[x]] == TRUE))\n",
    "}"
   ]
  },
  {
   "cell_type": "code",
   "execution_count": 22,
   "id": "d34c5708-3ea5-4f58-a6e7-39cb14c9feaf",
   "metadata": {
    "vscode": {
     "languageId": "r"
    }
   },
   "outputs": [],
   "source": [
    "#Extracting predicted.score\n",
    "pd.sc <- list()\n",
    "for(i in 1:ntransfer){\n",
    "    pd.sc[[i]] <- list()\n",
    "}\n",
    "\n",
    "for(i in seq_along(pd.list)){\n",
    "    for(x in seq_along(pd.list[[i]])){\n",
    "        element <- pd.list[[i]][[x]]['prediction.score.max']\n",
    "        element_name <- names(pd.list[[i]][x])\n",
    "        pd.sc[[i]][element_name] <- element\n",
    "    }\n",
    "}\n"
   ]
  },
  {
   "cell_type": "code",
   "execution_count": 23,
   "id": "727b5177-5037-4a8f-b286-dcb994ab6b14",
   "metadata": {
    "vscode": {
     "languageId": "r"
    }
   },
   "outputs": [],
   "source": [
    "#Convert pd.sc list into dataframe\n",
    "for (i in seq_along(pd.sc)) {\n",
    "  pd.sc[[i]] <- do.call(data.frame, pd.sc[[i]])\n",
    "  rownames(pd.sc[[i]]) <- rownames(pd.list[[i]][[1]])\n",
    "}\n"
   ]
  },
  {
   "cell_type": "code",
   "execution_count": 24,
   "id": "9338d1b5-7de5-4609-8d33-dbf6b49aa65d",
   "metadata": {
    "vscode": {
     "languageId": "r"
    }
   },
   "outputs": [],
   "source": [
    "#Compare prediction score between methods and see which ones are the best\n",
    "for(i in seq_along(pd.sc)){\n",
    "    max.score <- c()\n",
    "    for(x in 1:nrow(pd.sc[[i]])){\n",
    "        max.score[x] <- max(pd.sc[[i]][x,1:5])\n",
    "    }\n",
    "    pd.sc[[i]][,6] <- max.score\n",
    "}\n"
   ]
  },
  {
   "cell_type": "code",
   "execution_count": 25,
   "id": "ba18567f-d41b-4f9e-8bf7-14a9f4669593",
   "metadata": {
    "vscode": {
     "languageId": "r"
    }
   },
   "outputs": [],
   "source": [
    "#Braun: #'Subregion', 'Subclass', 'CommonestSubdivision', 'AutoAnnotation', 'AutoAnnotationDefs'\n",
    "#LNall: #'Subclass', 'ClusterName', 'Taxonomy_group', 'Region', 'Tissue', 'atlas'"
   ]
  },
  {
   "cell_type": "code",
   "execution_count": 26,
   "id": "56a55f3e-f1af-4ade-b4e3-f6866b1aea09",
   "metadata": {
    "vscode": {
     "languageId": "r"
    }
   },
   "outputs": [],
   "source": [
    "#Adding voting results to metadata\n",
    "pd.name <- c('Braun_Subregion',\n",
    "             'Braun_Subclass',\n",
    "             'Braun_CommonestSubdivision',\n",
    "             'Braun_AutoAnnotation',\n",
    "             'Braun_AutoAnnotationDefs',\n",
    "             'LNall_Subclass',\n",
    "             'LNall_ClusterName',\n",
    "             'LNall_Taxonomy_group',\n",
    "             'LNall_Region',\n",
    "             'LNall_Tissue',\n",
    "             'LNall_atlas',\n",
    "             'Clark_CellType',\n",
    "             'Clark_age',\n",
    "             'Briscoe_Type_step1',\n",
    "             'Briscoe_Type_step2',\n",
    "             'Levine_top_level',\n",
    "             'Levine_subtype',\n",
    "             'Ginty_annotation',\n",
    "             'Regev_annotation',\n",
    "             'Regev_Type',\n",
    "             'Regev_Region',\n",
    "             'Renthal_subtype')\n",
    "\n",
    "\n",
    "sc.name <- paste0(pd.name,'_score')"
   ]
  },
  {
   "cell_type": "code",
   "execution_count": 27,
   "id": "ba1d3b7a-5628-4244-86cf-0a7aa43b9edb",
   "metadata": {
    "vscode": {
     "languageId": "r"
    }
   },
   "outputs": [],
   "source": [
    "#Adding voting results to metadata\n",
    "for(i in seq_along(pd.list)){\n",
    "    vote.mtx <- data.frame(pd.id[[i]][,6])\n",
    "    rownames(vote.mtx) <- rownames(pd.id[[i]])\n",
    "    colnames(vote.mtx) <- pd.name[i]\n",
    "    seurat <- AddMetaData(seurat, vote.mtx)\n",
    "    \n",
    "    max.score <- data.frame(pd.sc[[i]][,6])\n",
    "    rownames(max.score) <- rownames(pd.sc[[i]])\n",
    "    colnames(max.score) <- sc.name[i]\n",
    "    seurat <- AddMetaData(seurat, max.score)\n",
    "}\n"
   ]
  },
  {
   "cell_type": "code",
   "execution_count": null,
   "id": "b776e7a3-151e-46b6-9168-9c1845f5dc0f",
   "metadata": {
    "vscode": {
     "languageId": "r"
    }
   },
   "outputs": [],
   "source": [
    "#Save results\n",
    "saveRDS(seurat, \"iGlut_pre_aggr_LT.rds\")\n"
   ]
  },
  {
   "cell_type": "code",
   "execution_count": null,
   "id": "39999174-e86f-45e4-9471-2c7647863f54",
   "metadata": {
    "vscode": {
     "languageId": "r"
    }
   },
   "outputs": [],
   "source": [
    "# Taking out seurat metadata\n",
    "mtx <- seurat@meta.data\n",
    "rownames(mtx) <- mtx[,1]\n",
    "mtx[,1] <- NULL\n"
   ]
  },
  {
   "cell_type": "code",
   "execution_count": null,
   "id": "885d5be6-2e8a-4824-ae13-7a24db9f1e3f",
   "metadata": {
    "vscode": {
     "languageId": "r"
    }
   },
   "outputs": [],
   "source": [
    "# Namining for column of interest\n",
    "pd.name <- c('Braun_Subregion',\n",
    "             'Braun_Subclass',\n",
    "             'Braun_CommonestSubdivision',\n",
    "             'Braun_AutoAnnotation',\n",
    "             'Braun_AutoAnnotationDefs',\n",
    "             'LNall_Subclass',\n",
    "             'LNall_ClusterName',\n",
    "             'LNall_Taxonomy_group',\n",
    "             'LNall_Region',\n",
    "             'LNall_Tissue',\n",
    "             'LNall_atlas',\n",
    "             'Clark_CellType',\n",
    "             'Clark_age',\n",
    "             'Briscoe_Type_step1',\n",
    "             'Briscoe_Type_step2',\n",
    "             'Levine_top_level',\n",
    "             'Levine_subtype',\n",
    "             'Ginty_annotation',\n",
    "             'Regev_annotation',\n",
    "             'Regev_Type',\n",
    "             'Regev_Region',\n",
    "             'Renthal_subtype')\n",
    "\n",
    "\n",
    "sc.name <- paste0(pd.name,'_score')"
   ]
  },
  {
   "cell_type": "code",
   "execution_count": null,
   "id": "f2a1ec54-003f-496a-a260-df00529960bf",
   "metadata": {
    "vscode": {
     "languageId": "r"
    }
   },
   "outputs": [],
   "source": [
    "# Tidying the data\n",
    "t1 <- melt(mtx, id.vars=c('high_res_clusters', 'final_clustering'),\n",
    "         measure.vars=pd.name)\n",
    "t2 <- melt(mtx, id.vars=c('high_res_clusters', 'final_clustering'),\n",
    "         measure.vars=sc.name)\n",
    "t2[,3] <- gsub('_score', '', t2[,3])\n",
    "t <- merge(t1, t2, by.x=c('high_res_clusters','variable'), by.y=c('high_res_clusters','variable'))\n",
    "t[,5] <- NULL\n",
    "\n",
    "colnames(t) <- c('high_res_clusters', 'atlas',\n",
    "                'final_clustering', 'label', 'score')\n",
    "\n",
    "t <- t[c('high_res_clusters', 'final_clustering', 'atlas',\n",
    "        'label', 'score')]"
   ]
  },
  {
   "cell_type": "code",
   "execution_count": null,
   "id": "2a5208e1-0a80-47c9-a23a-1c6398de7b27",
   "metadata": {
    "vscode": {
     "languageId": "r"
    }
   },
   "outputs": [],
   "source": [
    "#Create a list for each clusters\n",
    "\n",
    "cl.list <- list()\n",
    "\n",
    "for(i in 1:(length(unique(t$final_clustering)))){\n",
    "    cl.list[[i]] <- t%>% filter(final_clustering %in% (i-1))\n",
    "}"
   ]
  },
  {
   "cell_type": "code",
   "execution_count": null,
   "id": "b3c80c0a-47b1-41b1-b902-a11796ce6b83",
   "metadata": {
    "vscode": {
     "languageId": "r"
    }
   },
   "outputs": [],
   "source": [
    "##Summarize and exporting cluster summary\n",
    "df.list <- list()\n",
    "\n",
    "for(i in seq_along(cl.list)){\n",
    "    df.list[[i]] <- cl.list[[i]] %>%\n",
    "          group_by(atlas, label) %>%\n",
    "          summarize(Count = n(), Mean = mean(score, na.rm = TRUE)) %>%\n",
    "          top_n(Count, n=1) %>%\n",
    "          distinct(atlas, .keep_all=TRUE)\n",
    "    df.list[[i]]$pct.Count <- df.list[[i]]$Count/length(unique(cl.list[[i]]$high_res_clusters))*100\n",
    "    df.list[[i]]$cluster <- (i-1)\n",
    "}"
   ]
  },
  {
   "cell_type": "code",
   "execution_count": null,
   "id": "12be66a5-3d75-4a1b-9ac1-2c0199acb597",
   "metadata": {
    "vscode": {
     "languageId": "r"
    }
   },
   "outputs": [],
   "source": [
    "#Create final data with cluster summary\n",
    "final_data=data.frame(matrix(nrow=0, ncol=1))\n",
    "for(x in seq_along(df.list)){\n",
    "    data=data.frame(matrix(nrow=1, ncol=0))\n",
    "    \n",
    "    for(i in 1:nrow(df.list[[x]])){\n",
    "    data=cbind(data,df.list[[x]][i,c(2,4,5)])\n",
    "    }\n",
    "    \n",
    "    final_data <- rbind(final_data, data)\n",
    "}"
   ]
  },
  {
   "cell_type": "code",
   "execution_count": null,
   "id": "be2196e3",
   "metadata": {
    "vscode": {
     "languageId": "r"
    }
   },
   "outputs": [],
   "source": [
    "#Adding rownames to final_data\n",
    "rownames(final_data) <- (seq_along(df.list)-1)\n",
    "\n",
    "#Adding colnames to final_data\n",
    "test <- levels(df.list[[1]]$atlas)\n",
    "new_colnames <- list()\n",
    "shared_part <- c('label', 'Mean', 'pct.Count')\n",
    "for(i in seq_along(test)){\n",
    "    bridge <- list()\n",
    "    for(x in seq_along(shared_part)){\n",
    "        bridge[[x]] <- paste0(test[i],'_',shared_part[x])\n",
    "    }\n",
    "    new_colnames[[i]] <- unlist(bridge)\n",
    "}\n",
    "colnames(final_data) <- unlist(new_colnames)"
   ]
  }
 ],
 "metadata": {
  "kernelspec": {
   "display_name": "R",
   "language": "R",
   "name": "ir"
  },
  "language_info": {
   "codemirror_mode": "r",
   "file_extension": ".r",
   "mimetype": "text/x-r-source",
   "name": "R",
   "pygments_lexer": "r",
   "version": "4.2.1"
  }
 },
 "nbformat": 4,
 "nbformat_minor": 5
}
