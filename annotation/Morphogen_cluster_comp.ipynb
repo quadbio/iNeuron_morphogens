{
 "cells": [
  {
   "cell_type": "code",
   "execution_count": null,
   "id": "fe5ef136",
   "metadata": {
    "vscode": {
     "languageId": "r"
    }
   },
   "outputs": [],
   "source": [
    "library(Seurat)\n",
    "library(dplyr)\n",
    "library(tidyverse)\n",
    "library(ggplot2)\n",
    "library(MetBrewer)\n",
    "library(pheatmap)\n",
    "library(RColorBrewer)"
   ]
  },
  {
   "cell_type": "code",
   "execution_count": null,
   "id": "bd69ab54-2811-4d15-a500-ed2c41265a8a",
   "metadata": {
    "vscode": {
     "languageId": "r"
    }
   },
   "outputs": [],
   "source": [
    "##Read in data\n",
    "seurat <- readRDS('seurat.rds')\n"
   ]
  },
  {
   "cell_type": "code",
   "execution_count": null,
   "id": "6a2c1bb0-7000-42a9-8e56-bc2efd04e65b",
   "metadata": {
    "vscode": {
     "languageId": "r"
    }
   },
   "outputs": [],
   "source": [
    "#Read in morphogen metadata\n",
    "library(readxl)\n",
    "morphogen_info <- read_excel('Parse_samples_all.xlsx')\n",
    "test <- as.data.frame(morphogen_info)\n",
    "rownames(test) <- test$Sample\n",
    "rownames(morphogen_info) <- morphogen_info$Sample"
   ]
  },
  {
   "cell_type": "code",
   "execution_count": 9,
   "id": "b64dd51a-9d11-4c33-a007-0fe180a1fb3e",
   "metadata": {
    "vscode": {
     "languageId": "r"
    }
   },
   "outputs": [],
   "source": [
    "#Generate dataframe for %final_clustering\n",
    "#Use the seurat table function\n",
    "df_cl <- prop.table(table(seurat$parse_id, seurat$final_clustering), margin=1)\n"
   ]
  },
  {
   "cell_type": "code",
   "execution_count": null,
   "id": "a150e08c-4b50-4466-a7bb-5e702303fe93",
   "metadata": {
    "vscode": {
     "languageId": "r"
    }
   },
   "outputs": [],
   "source": [
    "#Read in annotation\n",
    "sum.iglut.pre <- read_excel('cluster_summary.xlsx')\n"
   ]
  },
  {
   "cell_type": "code",
   "execution_count": 15,
   "id": "f75ef2be-c15e-408f-a889-1bac18e06095",
   "metadata": {
    "tags": [],
    "vscode": {
     "languageId": "r"
    }
   },
   "outputs": [
    {
     "data": {
      "text/html": [
       "'list'"
      ],
      "text/latex": [
       "'list'"
      ],
      "text/markdown": [
       "'list'"
      ],
      "text/plain": [
       "[1] \"list\""
      ]
     },
     "metadata": {},
     "output_type": "display_data"
    },
    {
     "data": {
      "text/html": [
       "<table class=\"dataframe\">\n",
       "<caption>A data.frame: 6 x 80</caption>\n",
       "<thead>\n",
       "\t<tr><th></th><th scope=col>Cluster</th><th scope=col>Division</th><th scope=col>Neuron_type</th><th scope=col>Region</th><th scope=col>Score</th><th scope=col>Subtype</th><th scope=col>Subregion</th><th scope=col>Division_old</th><th scope=col>Neuron_type_old</th><th scope=col>Region_old</th><th scope=col>...</th><th scope=col>Regev_annotation_pct.Count</th><th scope=col>Regev_Type_label</th><th scope=col>Regev_Type_Mean</th><th scope=col>Regev_Type_pct.Count</th><th scope=col>Regev_Region_label</th><th scope=col>Regev_Region_Mean</th><th scope=col>Regev_Region_pct.Count</th><th scope=col>Renthal_subtype_label</th><th scope=col>Renthal_subtype_Mean</th><th scope=col>Renthal_subtype_pct.Count</th></tr>\n",
       "\t<tr><th></th><th scope=col>&lt;dbl&gt;</th><th scope=col>&lt;chr&gt;</th><th scope=col>&lt;chr&gt;</th><th scope=col>&lt;chr&gt;</th><th scope=col>&lt;dbl&gt;</th><th scope=col>&lt;chr&gt;</th><th scope=col>&lt;chr&gt;</th><th scope=col>&lt;chr&gt;</th><th scope=col>&lt;chr&gt;</th><th scope=col>&lt;chr&gt;</th><th scope=col>...</th><th scope=col>&lt;dbl&gt;</th><th scope=col>&lt;chr&gt;</th><th scope=col>&lt;dbl&gt;</th><th scope=col>&lt;dbl&gt;</th><th scope=col>&lt;chr&gt;</th><th scope=col>&lt;dbl&gt;</th><th scope=col>&lt;dbl&gt;</th><th scope=col>&lt;chr&gt;</th><th scope=col>&lt;dbl&gt;</th><th scope=col>&lt;dbl&gt;</th></tr>\n",
       "</thead>\n",
       "<tbody>\n",
       "\t<tr><th scope=row>0</th><td>0</td><td>CNS</td><td>RGL </td><td>Hindbrain  </td><td>0.7656497</td><td>NA </td><td>NA      </td><td>CNS</td><td>Radial glia   </td><td>Hndbrain       </td><td>...</td><td> 80.95238</td><td>nan</td><td>0.9771262</td><td>100.00000</td><td>colon</td><td>0.8361709</td><td>64.28571</td><td>NF1</td><td>0.4879705</td><td> 52.38095</td></tr>\n",
       "\t<tr><th scope=row>1</th><td>1</td><td>CNS</td><td>RGL </td><td>Forebrain  </td><td>0.8883681</td><td>NA </td><td>Thalamus</td><td>CNS</td><td>Radial glia   </td><td>Forebrain      </td><td>...</td><td> 95.55556</td><td>nan</td><td>0.9744816</td><td>100.00000</td><td>colon</td><td>0.8411144</td><td>97.77778</td><td>NF2</td><td>0.5609552</td><td> 80.00000</td></tr>\n",
       "\t<tr><th scope=row>2</th><td>2</td><td>CNS</td><td>GLUT</td><td>Hindbrain  </td><td>0.8883681</td><td>SST</td><td>NA      </td><td>Mix</td><td>Sensory neuron</td><td>Hindbrain      </td><td>...</td><td>100.00000</td><td>nan</td><td>0.8186653</td><td> 97.82609</td><td>nan  </td><td>0.8622933</td><td>76.08696</td><td>NF1</td><td>0.7398487</td><td>100.00000</td></tr>\n",
       "\t<tr><th scope=row>3</th><td>3</td><td>CNS</td><td>NBL </td><td>Hindbrain  </td><td>0.9179493</td><td>NA </td><td>Pons    </td><td>CNS</td><td>Neuroblast    </td><td>Hindbrain      </td><td>...</td><td> 90.32258</td><td>nan</td><td>0.9358544</td><td>100.00000</td><td>ileum</td><td>0.7511190</td><td>83.87097</td><td>NF1</td><td>0.6652105</td><td> 64.51613</td></tr>\n",
       "\t<tr><th scope=row>4</th><td>4</td><td>CNS</td><td>GLUT</td><td>Spinal cord</td><td>0.7517467</td><td>dl3</td><td>NA      </td><td>CNS</td><td>??Neuron      </td><td>Hindbrain/SC/TG</td><td>...</td><td> 32.72727</td><td>nan</td><td>0.7744533</td><td> 89.09091</td><td>colon</td><td>0.7721304</td><td>58.18182</td><td>NF2</td><td>0.7456172</td><td>100.00000</td></tr>\n",
       "\t<tr><th scope=row>5</th><td>5</td><td>CNS</td><td>GLUT</td><td>Hindbrain  </td><td>0.8593211</td><td>SST</td><td>Medulla </td><td>CNS</td><td>Sensory neuron</td><td>Hindbrain      </td><td>...</td><td>100.00000</td><td>nan</td><td>0.7461213</td><td> 74.41860</td><td>nan  </td><td>0.8525731</td><td>90.69767</td><td>NF1</td><td>0.7701733</td><td>100.00000</td></tr>\n",
       "</tbody>\n",
       "</table>\n"
      ],
      "text/latex": [
       "A data.frame: 6 x 80\n",
       "\\begin{tabular}{r|lllllllllllllllllllll}\n",
       "  & Cluster & Division & Neuron\\_type & Region & Score & Subtype & Subregion & Division\\_old & Neuron\\_type\\_old & Region\\_old & ... & Regev\\_annotation\\_pct.Count & Regev\\_Type\\_label & Regev\\_Type\\_Mean & Regev\\_Type\\_pct.Count & Regev\\_Region\\_label & Regev\\_Region\\_Mean & Regev\\_Region\\_pct.Count & Renthal\\_subtype\\_label & Renthal\\_subtype\\_Mean & Renthal\\_subtype\\_pct.Count\\\\\n",
       "  & <dbl> & <chr> & <chr> & <chr> & <dbl> & <chr> & <chr> & <chr> & <chr> & <chr> & ... & <dbl> & <chr> & <dbl> & <dbl> & <chr> & <dbl> & <dbl> & <chr> & <dbl> & <dbl>\\\\\n",
       "\\hline\n",
       "\t0 & 0 & CNS & RGL  & Hindbrain   & 0.7656497 & NA  & NA       & CNS & Radial glia    & Hndbrain        & ... &  80.95238 & nan & 0.9771262 & 100.00000 & colon & 0.8361709 & 64.28571 & NF1 & 0.4879705 &  52.38095\\\\\n",
       "\t1 & 1 & CNS & RGL  & Forebrain   & 0.8883681 & NA  & Thalamus & CNS & Radial glia    & Forebrain       & ... &  95.55556 & nan & 0.9744816 & 100.00000 & colon & 0.8411144 & 97.77778 & NF2 & 0.5609552 &  80.00000\\\\\n",
       "\t2 & 2 & CNS & GLUT & Hindbrain   & 0.8883681 & SST & NA       & Mix & Sensory neuron & Hindbrain       & ... & 100.00000 & nan & 0.8186653 &  97.82609 & nan   & 0.8622933 & 76.08696 & NF1 & 0.7398487 & 100.00000\\\\\n",
       "\t3 & 3 & CNS & NBL  & Hindbrain   & 0.9179493 & NA  & Pons     & CNS & Neuroblast     & Hindbrain       & ... &  90.32258 & nan & 0.9358544 & 100.00000 & ileum & 0.7511190 & 83.87097 & NF1 & 0.6652105 &  64.51613\\\\\n",
       "\t4 & 4 & CNS & GLUT & Spinal cord & 0.7517467 & dl3 & NA       & CNS & ??Neuron       & Hindbrain/SC/TG & ... &  32.72727 & nan & 0.7744533 &  89.09091 & colon & 0.7721304 & 58.18182 & NF2 & 0.7456172 & 100.00000\\\\\n",
       "\t5 & 5 & CNS & GLUT & Hindbrain   & 0.8593211 & SST & Medulla  & CNS & Sensory neuron & Hindbrain       & ... & 100.00000 & nan & 0.7461213 &  74.41860 & nan   & 0.8525731 & 90.69767 & NF1 & 0.7701733 & 100.00000\\\\\n",
       "\\end{tabular}\n"
      ],
      "text/markdown": [
       "\n",
       "A data.frame: 6 x 80\n",
       "\n",
       "| <!--/--> | Cluster &lt;dbl&gt; | Division &lt;chr&gt; | Neuron_type &lt;chr&gt; | Region &lt;chr&gt; | Score &lt;dbl&gt; | Subtype &lt;chr&gt; | Subregion &lt;chr&gt; | Division_old &lt;chr&gt; | Neuron_type_old &lt;chr&gt; | Region_old &lt;chr&gt; | ... ... | Regev_annotation_pct.Count &lt;dbl&gt; | Regev_Type_label &lt;chr&gt; | Regev_Type_Mean &lt;dbl&gt; | Regev_Type_pct.Count &lt;dbl&gt; | Regev_Region_label &lt;chr&gt; | Regev_Region_Mean &lt;dbl&gt; | Regev_Region_pct.Count &lt;dbl&gt; | Renthal_subtype_label &lt;chr&gt; | Renthal_subtype_Mean &lt;dbl&gt; | Renthal_subtype_pct.Count &lt;dbl&gt; |\n",
       "|---|---|---|---|---|---|---|---|---|---|---|---|---|---|---|---|---|---|---|---|---|---|\n",
       "| 0 | 0 | CNS | RGL  | Hindbrain   | 0.7656497 | NA  | NA       | CNS | Radial glia    | Hndbrain        | ... |  80.95238 | nan | 0.9771262 | 100.00000 | colon | 0.8361709 | 64.28571 | NF1 | 0.4879705 |  52.38095 |\n",
       "| 1 | 1 | CNS | RGL  | Forebrain   | 0.8883681 | NA  | Thalamus | CNS | Radial glia    | Forebrain       | ... |  95.55556 | nan | 0.9744816 | 100.00000 | colon | 0.8411144 | 97.77778 | NF2 | 0.5609552 |  80.00000 |\n",
       "| 2 | 2 | CNS | GLUT | Hindbrain   | 0.8883681 | SST | NA       | Mix | Sensory neuron | Hindbrain       | ... | 100.00000 | nan | 0.8186653 |  97.82609 | nan   | 0.8622933 | 76.08696 | NF1 | 0.7398487 | 100.00000 |\n",
       "| 3 | 3 | CNS | NBL  | Hindbrain   | 0.9179493 | NA  | Pons     | CNS | Neuroblast     | Hindbrain       | ... |  90.32258 | nan | 0.9358544 | 100.00000 | ileum | 0.7511190 | 83.87097 | NF1 | 0.6652105 |  64.51613 |\n",
       "| 4 | 4 | CNS | GLUT | Spinal cord | 0.7517467 | dl3 | NA       | CNS | ??Neuron       | Hindbrain/SC/TG | ... |  32.72727 | nan | 0.7744533 |  89.09091 | colon | 0.7721304 | 58.18182 | NF2 | 0.7456172 | 100.00000 |\n",
       "| 5 | 5 | CNS | GLUT | Hindbrain   | 0.8593211 | SST | Medulla  | CNS | Sensory neuron | Hindbrain       | ... | 100.00000 | nan | 0.7461213 |  74.41860 | nan   | 0.8525731 | 90.69767 | NF1 | 0.7701733 | 100.00000 |\n",
       "\n"
      ],
      "text/plain": [
       "  Cluster Division Neuron_type Region      Score     Subtype Subregion\n",
       "0 0       CNS      RGL         Hindbrain   0.7656497 NA      NA       \n",
       "1 1       CNS      RGL         Forebrain   0.8883681 NA      Thalamus \n",
       "2 2       CNS      GLUT        Hindbrain   0.8883681 SST     NA       \n",
       "3 3       CNS      NBL         Hindbrain   0.9179493 NA      Pons     \n",
       "4 4       CNS      GLUT        Spinal cord 0.7517467 dl3     NA       \n",
       "5 5       CNS      GLUT        Hindbrain   0.8593211 SST     Medulla  \n",
       "  Division_old Neuron_type_old Region_old      ... Regev_annotation_pct.Count\n",
       "0 CNS          Radial glia     Hndbrain        ...  80.95238                 \n",
       "1 CNS          Radial glia     Forebrain       ...  95.55556                 \n",
       "2 Mix          Sensory neuron  Hindbrain       ... 100.00000                 \n",
       "3 CNS          Neuroblast      Hindbrain       ...  90.32258                 \n",
       "4 CNS          ??Neuron        Hindbrain/SC/TG ...  32.72727                 \n",
       "5 CNS          Sensory neuron  Hindbrain       ... 100.00000                 \n",
       "  Regev_Type_label Regev_Type_Mean Regev_Type_pct.Count Regev_Region_label\n",
       "0 nan              0.9771262       100.00000            colon             \n",
       "1 nan              0.9744816       100.00000            colon             \n",
       "2 nan              0.8186653        97.82609            nan               \n",
       "3 nan              0.9358544       100.00000            ileum             \n",
       "4 nan              0.7744533        89.09091            colon             \n",
       "5 nan              0.7461213        74.41860            nan               \n",
       "  Regev_Region_Mean Regev_Region_pct.Count Renthal_subtype_label\n",
       "0 0.8361709         64.28571               NF1                  \n",
       "1 0.8411144         97.77778               NF2                  \n",
       "2 0.8622933         76.08696               NF1                  \n",
       "3 0.7511190         83.87097               NF1                  \n",
       "4 0.7721304         58.18182               NF2                  \n",
       "5 0.8525731         90.69767               NF1                  \n",
       "  Renthal_subtype_Mean Renthal_subtype_pct.Count\n",
       "0 0.4879705             52.38095                \n",
       "1 0.5609552             80.00000                \n",
       "2 0.7398487            100.00000                \n",
       "3 0.6652105             64.51613                \n",
       "4 0.7456172            100.00000                \n",
       "5 0.7701733            100.00000                "
      ]
     },
     "metadata": {},
     "output_type": "display_data"
    }
   ],
   "source": [
    "#Changing sum.iglut.post cluster metadata to dataframe\n",
    "sum.iglut.pre <- as.data.frame(sum.iglut.pre)\n",
    "typeof(sum.iglut.pre)\n",
    "rownames(sum.iglut.pre) <- sum.iglut.pre$Cluster\n",
    "head(sum.iglut.pre)\n"
   ]
  },
  {
   "cell_type": "code",
   "execution_count": 30,
   "id": "2fc597d5-199c-4415-b48e-fcdcaa107a53",
   "metadata": {
    "vscode": {
     "languageId": "r"
    }
   },
   "outputs": [],
   "source": [
    "my_colour = list(\n",
    "    AP_axis = c(XAV_3 = \"#9a133d\", XAV_2 = \"#d8527c\", XAV_1 = \"#f9b4c9\", ctrl='grey90',\n",
    "               CHIR_1 = \"#dec5da\", CHIR_2 = \"#b695bc\", CHIR_3 = \"#90719f\", CHIR_4 = \"#574571\",\n",
    "               RA_4 = \"#376795\", RA_3 = \"#528fad\", RA_2 = \"#72bcd5\", RA_1 = \"#aadce0\",\n",
    "               FGF8_1 = \"plum1\", FGF8_2 = \"orchid2\", FGF8_3 = \"mediumorchid3\", FGF8_4 = \"magenta4\",\n",
    "               RA_4_CHIR = \"#3c7c3d\", RA_3_CHIR = \"#669d62\", \n",
    "               RA_2_CHIR = \"#9cc184\", RA_1_CHIR = \"#c2d6a4\",\n",
    "               FGF8_1_CHIR = \"gray80\", FGF8_2_CHIR = \"gray60\",\n",
    "               FGF8_3_CHIR = \"gray40\", FGF8_4_CHIR = \"gray20\",\n",
    "               XAV_3_FGF8 = \"#d8527c\", RA_3_FGF8 = \"#183E6B\", CHIR_2_FGF8 = \"#90719f\"),\n",
    "    \n",
    "    DV_axis = c(BMP4_3 = \"#ffb242\", BMP4_2 = \"#ffd353\", BMP4_1 = '#ffe6b7',\n",
    "               ctrl = 'grey90', SHH_1 = '#C2D9F7', SHH_2 = \"#98C1F0\",\n",
    "               SHH_3 = \"#4782DD\", SHH_4 = \"#1D52A1\", CycA = \"#669d62\"),\n",
    "    \n",
    "    Division = c(CNS = '#a40000', PNS = '#16317d', Other='#cccccc'),\n",
    "    \n",
    "    Region = c(Forebrain='#fe9b00', Midbrain='#f4c40f', Hindbrain='#d8443c', `Spinal cord`= '#9b3441',\n",
    "               SYM='#268a8a', ENS='#226a99', TG='#383b81', DRG='#92c051',\n",
    "               `Optic cup`='#633372', NE = '#e87b89', Other='#cccccc'),\n",
    "    \n",
    "    Neuron_type = c(GLUT='#fe9b00', GABA='#f4c40f', CHO='#33A02C', NOR='#383b81', GLY='#d8443c', DOPA='#9b3441',\n",
    "                   RGL='#6a3d9a', NBL='#c9bba2', IP='#aab5d5', NCC='#92c051', EPL='#000000',\n",
    "                   EC='#99610a', MES='#cccccc', OB='#1f6e9c', EPC='#B9CECB'),\n",
    "    \n",
    "    Basal_media = c(NIM = '#4c825d', N2B27_2Si = '#8dc7dc', N2B27_SB_CHIR = '#0e2a4d')\n",
    ")"
   ]
  },
  {
   "cell_type": "code",
   "execution_count": null,
   "id": "f029657f-7c9d-464c-9f25-80b1102de57d",
   "metadata": {
    "vscode": {
     "languageId": "r"
    }
   },
   "outputs": [],
   "source": [
    "#Setting the order of all region\n",
    "region <- c('Forebrain', 'Midbrain', 'Hindbrain', 'Spinal cord',\n",
    "           'SYM', 'ENS', 'TG', 'DRG',\n",
    "           'Optic cup', 'NE', 'Other')"
   ]
  },
  {
   "cell_type": "code",
   "execution_count": null,
   "id": "03ee70bb-0a3d-41c8-b330-d740f34ee9bb",
   "metadata": {
    "vscode": {
     "languageId": "r"
    }
   },
   "outputs": [],
   "source": [
    "col_region_test7 <- c('#fe9b00', '#f4c40f', '#d8443c', '#9b3441',\n",
    "               '#268a8a', '#226a99', '#383b81', '#92c051',\n",
    "               '#633372', '#e87b89', '#cccccc')"
   ]
  },
  {
   "cell_type": "code",
   "execution_count": null,
   "id": "6504b014-d80e-450e-963c-5b44c70f1e8e",
   "metadata": {
    "vscode": {
     "languageId": "r"
    }
   },
   "outputs": [],
   "source": [
    "#Setting the identity of all neuron types\n",
    "neuron_type <- c('GLUT','GABA','CHO','NOR','GLY','DOPA',\n",
    "                'RGL','NBL','IP','NCC','EPL',\n",
    "                'EC','MES','OB','EPC')"
   ]
  },
  {
   "cell_type": "code",
   "execution_count": null,
   "id": "cc37c289-2ef4-4573-bf82-95d0d7d2ac40",
   "metadata": {
    "vscode": {
     "languageId": "r"
    }
   },
   "outputs": [],
   "source": [
    "col_neuron_type2 <- c('#fe9b00','#f4c40f','#33A02C','#383b81','#d8443c','#9b3441',\n",
    "                    '#6a3d9a','#c9bba2','#aab5d5','#92c051','#000000',\n",
    "                    '#99610a','#cccccc','#1f6e9c','#B9CECB')"
   ]
  },
  {
   "cell_type": "code",
   "execution_count": null,
   "id": "3a2973fe",
   "metadata": {
    "vscode": {
     "languageId": "r"
    }
   },
   "outputs": [],
   "source": [
    "col_red <- c(\"#FFF5F0\", \"#FEE0D2\", \"#FCBBA1\", \"#FC9272\", \"#FB6A4A\",\n",
    "             \"#EF3B2C\", \"#CB181D\", \"#A50F15\", \"#67000D\", \"#67000D\",\n",
    "            \"#67000D\", \"#67000D\")"
   ]
  },
  {
   "cell_type": "code",
   "execution_count": null,
   "id": "91626e01-41a7-4dc5-9bfc-83acc4af86e9",
   "metadata": {
    "vscode": {
     "languageId": "r"
    }
   },
   "outputs": [],
   "source": [
    "options(repr.plot.width=10, repr.plot.height=9)\n",
    "pheatmap(df_cl, scale='column',\n",
    "         annotation_row=test[,2:4],\n",
    "         annotation_col=sum.iglut.pre[,2:4],\n",
    "         annotation_colors = my_colour, \n",
    "         breaks = seq(0, 5, length.out = 50),\n",
    "         cutree_rows = 17,\n",
    "         cutree_cols = 11,\n",
    "         color = colorRampPalette(col_red)(50),\n",
    "         show_rownames = F, show_colnames = F)"
   ]
  },
  {
   "cell_type": "code",
   "execution_count": null,
   "id": "3570fab6-3876-4ae4-9ae9-642cd568c847",
   "metadata": {
    "vscode": {
     "languageId": "r"
    }
   },
   "outputs": [],
   "source": [
    "# Export heatmap\n",
    "pheatmap(df_cl, scale='column',\n",
    "         annotation_row=test[,2:4],\n",
    "         annotation_col=sum.iglut.pre[,2:4],\n",
    "         annotation_colors = my_colour, \n",
    "         breaks = seq(0, 5, length.out = 50),\n",
    "         cutree_rows = 17,\n",
    "         cutree_cols = 11,\n",
    "         color = colorRampPalette(col_red)(50),\n",
    "         show_rownames = F, show_colnames = F,\n",
    "         border_color = NA,\n",
    "         filename='Composition_heatmap.pdf',\n",
    "         width=12, height=10)"
   ]
  }
 ],
 "metadata": {
  "kernelspec": {
   "display_name": "R",
   "language": "R",
   "name": "ir"
  },
  "language_info": {
   "codemirror_mode": "r",
   "file_extension": ".r",
   "mimetype": "text/x-r-source",
   "name": "R",
   "pygments_lexer": "r",
   "version": "4.2.1"
  }
 },
 "nbformat": 4,
 "nbformat_minor": 5
}
