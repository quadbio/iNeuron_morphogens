{
 "cells": [
  {
   "cell_type": "code",
   "execution_count": null,
   "id": "973b0b78",
   "metadata": {
    "vscode": {
     "languageId": "r"
    }
   },
   "outputs": [],
   "source": [
    "library(Seurat)\n",
    "library(tidyverse)\n",
    "library(dplyr)\n",
    "library(purrr)"
   ]
  },
  {
   "cell_type": "code",
   "execution_count": null,
   "id": "91fe34f0-70d9-44ec-bb5a-99b8683d34bd",
   "metadata": {
    "vscode": {
     "languageId": "r"
    }
   },
   "outputs": [],
   "source": [
    "#Read in data\n",
    "iN <- readRDS('seurat.rds')\n"
   ]
  },
  {
   "cell_type": "code",
   "execution_count": 3,
   "id": "810b8dec-a01b-44da-b719-6fd0cd4b4934",
   "metadata": {
    "vscode": {
     "languageId": "r"
    }
   },
   "outputs": [
    {
     "data": {
      "text/plain": [
       "An object of class Seurat \n",
       "62710 features across 304912 samples within 1 assay \n",
       "Active assay: RNA (62710 features, 5000 variable features)\n",
       " 3 dimensional reductions calculated: umap, tsne, pca"
      ]
     },
     "metadata": {},
     "output_type": "display_data"
    }
   ],
   "source": [
    "iN"
   ]
  },
  {
   "cell_type": "code",
   "execution_count": 5,
   "id": "2c9fcf87-1cb5-4784-9867-daf6a5d36be1",
   "metadata": {
    "vscode": {
     "languageId": "r"
    }
   },
   "outputs": [],
   "source": [
    "#Split seurat object based on final clusters\n",
    "ClusterList <- SplitObject(iN, split.by = \"final_clustering\")"
   ]
  },
  {
   "cell_type": "code",
   "execution_count": 55,
   "id": "cfa976a9-ee2e-40cf-abae-21f8110652cd",
   "metadata": {
    "vscode": {
     "languageId": "r"
    }
   },
   "outputs": [],
   "source": [
    "#Try to rank the number of cells in each clusters\n",
    "Idents(iN) <- iN$final_clustering\n",
    "ncells <- table(Idents(iN))\n"
   ]
  },
  {
   "cell_type": "code",
   "execution_count": null,
   "id": "4beebb0f",
   "metadata": {
    "vscode": {
     "languageId": "r"
    }
   },
   "outputs": [],
   "source": [
    "#Highres clusters with resolution = 6\n",
    "info_6 <- purrr::map_dfr(ClusterList, function(x){\n",
    "  print(head(Idents(x) <- x$final_clustering))\n",
    "  x <- FindNeighbors(x, dims = 1:60)\n",
    "  x <- FindClusters(x, resolution = 6)\n",
    "  x@meta.data\n",
    "})"
   ]
  },
  {
   "cell_type": "code",
   "execution_count": 81,
   "id": "db1823da-0179-44b8-a17e-635e32667eee",
   "metadata": {
    "vscode": {
     "languageId": "r"
    }
   },
   "outputs": [],
   "source": [
    "#combine cluster ID and sample ID and add to metadata\n",
    "library(stringr)\n",
    "info_6[,57] <- str_c(info_6$final_clustering, \"_\", info_6$RNA_snn_res.6)\n",
    "colnames(info_6)[57] <- \"high_res_clusters\"\n"
   ]
  },
  {
   "cell_type": "code",
   "execution_count": 83,
   "id": "111b530b-3aec-473e-97ad-03a1a8fa6e2d",
   "metadata": {
    "vscode": {
     "languageId": "r"
    }
   },
   "outputs": [],
   "source": [
    "#Adding metadata\n",
    "add_info <- info_6[,56:57]\n",
    "iN <- AddMetaData(iN, add_info)"
   ]
  },
  {
   "cell_type": "code",
   "execution_count": 84,
   "id": "2271226e-ce06-4da1-8ddd-b43db4f27b04",
   "metadata": {
    "vscode": {
     "languageId": "r"
    }
   },
   "outputs": [
    {
     "name": "stderr",
     "output_type": "stream",
     "text": [
      "Warning message in asMethod(object):\n",
      "\"sparse->dense coercion: allocating vector of size 10.3 GiB\"\n",
      "Warning message in asMethod(object):\n",
      "\"sparse->dense coercion: allocating vector of size 2.1 GiB\"\n",
      "Centering and scaling data matrix\n",
      "\n"
     ]
    }
   ],
   "source": [
    "#Generating a new seurat object from high-resolution clusters\n",
    "#There is not much metadata to be added (because there is no sample information)\n",
    "#Try to aggregate assay using seurat instead of Pando\n",
    "Idents(iN) <- iN$high_res_clusters\n",
    "iN.aggr <- AverageExpression(iN, group.by = \"ident\", return.seurat = TRUE)\n"
   ]
  },
  {
   "cell_type": "code",
   "execution_count": null,
   "id": "a084801f-f28c-4f2a-b581-ddf90f8c1973",
   "metadata": {
    "vscode": {
     "languageId": "r"
    }
   },
   "outputs": [
    {
     "name": "stderr",
     "output_type": "stream",
     "text": [
      "Warning message:\n",
      "\"Setting row names on a tibble is deprecated.\"\n"
     ]
    }
   ],
   "source": [
    "#Aggregate/summerize metadata\n",
    "iN.aggr.info <- iN@meta.data %>% group_by(high_res_clusters) %>% distinct(final_clustering) \n",
    "rownames(iN.aggr.info) <- iN.aggr.info$high_res_clusters #Organize this information so that rowname = cell barcode in high-res clusters\n",
    "iN.aggr <- AddMetaData(iN.aggr, iN.aggr.info) #Append sample info onto high-res clusters seurat object\n"
   ]
  },
  {
   "cell_type": "code",
   "execution_count": 88,
   "id": "f9c28035-0af0-44c4-87b7-876686ef8bf5",
   "metadata": {
    "vscode": {
     "languageId": "r"
    }
   },
   "outputs": [],
   "source": [
    "#Averaging the umap coordinates from each high-resolution clusters\n",
    "#So one could overlay the original umap with high-res cluster umap\n",
    "umap_cord <- iN[['umap']]@cell.embeddings\n",
    "iN.meta <- iN@meta.data\n",
    "umap_cord <- cbind(umap_cord, iN.meta[,56])\n",
    "umap_cord <- as_tibble(umap_cord, rownames = NA) #Use rownames = NA to keep rownames. otherwise the default is NULL.\n",
    "colnames(umap_cord)[3] <- \"high_res_clusters\"\n"
   ]
  },
  {
   "cell_type": "code",
   "execution_count": 90,
   "id": "7ba02614-c6ec-42b2-9283-31626d7ff687",
   "metadata": {
    "vscode": {
     "languageId": "r"
    }
   },
   "outputs": [],
   "source": [
    "#Summarize UMAP coordinates based on high_res_clusters\n",
    "umap_cord.aggr <- umap_cord %>% \n",
    "  group_by(high_res_clusters) %>%\n",
    "  summarise(UMAP_1 = mean(as.numeric(UMAP_1)),\n",
    "            UMAP_2 = mean(as.numeric(UMAP_2))) #Need this as.numeric argument to change character to numbers\n"
   ]
  },
  {
   "cell_type": "code",
   "execution_count": 91,
   "id": "dc104dfa-c452-4f84-b231-83e9e2f78660",
   "metadata": {
    "vscode": {
     "languageId": "r"
    }
   },
   "outputs": [],
   "source": [
    "#Make the format of aggregated uamp_cord similar to the format of umap_coordinates\n",
    "name_col <- c(\"UMAP_1\", \"UMAP_2\")\n",
    "name_row <- umap_cord.aggr$high_res_clusters\n",
    "umap_cord.aggr$high_res_clusters <- NULL\n",
    "umap_cord.aggr.mtx <- matrix(unlist(umap_cord.aggr), ncol=2)\n",
    "rownames(umap_cord.aggr.mtx) <- name_row\n",
    "colnames(umap_cord.aggr.mtx) <- name_col\n"
   ]
  },
  {
   "cell_type": "code",
   "execution_count": 92,
   "id": "2d8bd38a-ad30-4d6c-a20a-c19d7dbbc07a",
   "metadata": {
    "vscode": {
     "languageId": "r"
    }
   },
   "outputs": [],
   "source": [
    "#Add aggregated umap_coordinates to aggregated high_resolution_clusters' seurat object\n",
    "#Use Seurat CreateDimReducObject\n",
    "#Refer to this https://github.com/satijalab/seurat-wrappers/issues/13\n",
    "iN.aggr@reductions[[\"umap\"]] <- CreateDimReducObject(\n",
    "  embeddings = umap_cord.aggr.mtx, key = \"UMAP_\", assay = \"RNA\", global = TRUE)\n"
   ]
  },
  {
   "cell_type": "code",
   "execution_count": null,
   "id": "f3172924-7947-4812-bf10-6b27488cbde7",
   "metadata": {
    "vscode": {
     "languageId": "r"
    }
   },
   "outputs": [],
   "source": [
    "#Save data\n",
    "saveRDS(iN.aggr, \"iN_aggr.rds\")\n"
   ]
  }
 ],
 "metadata": {
  "kernelspec": {
   "display_name": "R",
   "language": "R",
   "name": "ir"
  },
  "language_info": {
   "codemirror_mode": "r",
   "file_extension": ".r",
   "mimetype": "text/x-r-source",
   "name": "R",
   "pygments_lexer": "r",
   "version": "4.2.1"
  }
 },
 "nbformat": 4,
 "nbformat_minor": 5
}
