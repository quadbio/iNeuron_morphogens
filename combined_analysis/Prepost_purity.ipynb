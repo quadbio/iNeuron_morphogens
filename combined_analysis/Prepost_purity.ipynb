{
 "cells": [
  {
   "cell_type": "code",
   "execution_count": null,
   "id": "7b9355dd",
   "metadata": {
    "vscode": {
     "languageId": "r"
    }
   },
   "outputs": [],
   "source": [
    "library(Seurat)\n",
    "library(dplyr)\n",
    "library(tidyverse)\n",
    "library(ggplot2)\n",
    "library(MetBrewer)\n",
    "library(ggthemes)\n",
    "library(ggpubr)"
   ]
  },
  {
   "cell_type": "code",
   "execution_count": null,
   "id": "99a2d428-3fd9-40d4-bae4-7f3721d58f03",
   "metadata": {
    "vscode": {
     "languageId": "r"
    }
   },
   "outputs": [],
   "source": [
    "# Read in the harmonized iGlut pre and post\n",
    "seurat <- readRDS('seurat.rds')"
   ]
  },
  {
   "cell_type": "code",
   "execution_count": null,
   "id": "7623080d-0d3f-4a10-9666-fae463df9584",
   "metadata": {
    "vscode": {
     "languageId": "r"
    }
   },
   "outputs": [
    {
     "name": "stderr",
     "output_type": "stream",
     "text": [
      "\u001b[1m\u001b[22mJoining with `by = join_by(Sample)`\n"
     ]
    },
    {
     "data": {
      "text/html": [
       "<table class=\"dataframe\">\n",
       "<caption>A tibble: 6 × 5</caption>\n",
       "<thead>\n",
       "\t<tr><th scope=col>Sample</th><th scope=col>AP_axis</th><th scope=col>DV_axis</th><th scope=col>Basal_media</th><th scope=col>count</th></tr>\n",
       "\t<tr><th scope=col>&lt;chr&gt;</th><th scope=col>&lt;chr&gt;</th><th scope=col>&lt;chr&gt;</th><th scope=col>&lt;chr&gt;</th><th scope=col>&lt;dbl&gt;</th></tr>\n",
       "</thead>\n",
       "<tbody>\n",
       "\t<tr><td>p1_A1</td><td>XAV_3 </td><td>BMP4_3</td><td>mTeSR</td><td>23</td></tr>\n",
       "\t<tr><td>p1_A2</td><td>XAV_2 </td><td>BMP4_3</td><td>mTeSR</td><td>20</td></tr>\n",
       "\t<tr><td>p1_A3</td><td>XAV_1 </td><td>BMP4_3</td><td>mTeSR</td><td>18</td></tr>\n",
       "\t<tr><td>p1_A4</td><td>ctrl  </td><td>BMP4_3</td><td>mTeSR</td><td>17</td></tr>\n",
       "\t<tr><td>p1_A5</td><td>CHIR_1</td><td>BMP4_3</td><td>mTeSR</td><td>22</td></tr>\n",
       "\t<tr><td>p1_A6</td><td>CHIR_2</td><td>BMP4_3</td><td>mTeSR</td><td>22</td></tr>\n",
       "</tbody>\n",
       "</table>\n"
      ],
      "text/latex": [
       "A tibble: 6 × 5\n",
       "\\begin{tabular}{lllll}\n",
       " Sample & AP\\_axis & DV\\_axis & Basal\\_media & count\\\\\n",
       " <chr> & <chr> & <chr> & <chr> & <dbl>\\\\\n",
       "\\hline\n",
       "\t p1\\_A1 & XAV\\_3  & BMP4\\_3 & mTeSR & 23\\\\\n",
       "\t p1\\_A2 & XAV\\_2  & BMP4\\_3 & mTeSR & 20\\\\\n",
       "\t p1\\_A3 & XAV\\_1  & BMP4\\_3 & mTeSR & 18\\\\\n",
       "\t p1\\_A4 & ctrl   & BMP4\\_3 & mTeSR & 17\\\\\n",
       "\t p1\\_A5 & CHIR\\_1 & BMP4\\_3 & mTeSR & 22\\\\\n",
       "\t p1\\_A6 & CHIR\\_2 & BMP4\\_3 & mTeSR & 22\\\\\n",
       "\\end{tabular}\n"
      ],
      "text/markdown": [
       "\n",
       "A tibble: 6 × 5\n",
       "\n",
       "| Sample &lt;chr&gt; | AP_axis &lt;chr&gt; | DV_axis &lt;chr&gt; | Basal_media &lt;chr&gt; | count &lt;dbl&gt; |\n",
       "|---|---|---|---|---|\n",
       "| p1_A1 | XAV_3  | BMP4_3 | mTeSR | 23 |\n",
       "| p1_A2 | XAV_2  | BMP4_3 | mTeSR | 20 |\n",
       "| p1_A3 | XAV_1  | BMP4_3 | mTeSR | 18 |\n",
       "| p1_A4 | ctrl   | BMP4_3 | mTeSR | 17 |\n",
       "| p1_A5 | CHIR_1 | BMP4_3 | mTeSR | 22 |\n",
       "| p1_A6 | CHIR_2 | BMP4_3 | mTeSR | 22 |\n",
       "\n"
      ],
      "text/plain": [
       "  Sample AP_axis DV_axis Basal_media count\n",
       "1 p1_A1  XAV_3   BMP4_3  mTeSR       23   \n",
       "2 p1_A2  XAV_2   BMP4_3  mTeSR       20   \n",
       "3 p1_A3  XAV_1   BMP4_3  mTeSR       18   \n",
       "4 p1_A4  ctrl    BMP4_3  mTeSR       17   \n",
       "5 p1_A5  CHIR_1  BMP4_3  mTeSR       22   \n",
       "6 p1_A6  CHIR_2  BMP4_3  mTeSR       22   "
      ]
     },
     "metadata": {},
     "output_type": "display_data"
    }
   ],
   "source": [
    "# Now calculate the comparison vs iglut_post\n",
    "# Generate dataframe for %final_clustering in each AP-morphogens\n",
    "# Use the seurat table function\n",
    "df <- prop.table(table(seurat@meta.data$parse_id, seurat@meta.data$final_clustering), margin=1)\n",
    "\n",
    "# Take cutoff for cluster counting (present in >= 2.5% of the sample)\n",
    "threshold = 0.01\n",
    "cut_df <- apply(df, c(1, 2), function(x) ifelse(x > threshold, 1, 0))\n",
    "\n",
    "# Calculate number of clusters in each sample\n",
    "cut_df_count <- cbind(count=rowSums(cut_df),cut_df)\n",
    "\n",
    "# Add rownames of df as the first column (Sample)\n",
    "df_info <- cbind(Sample = rownames(df), cut_df_count)\n",
    "\n",
    "# Change the format to tibble\n",
    "tb <- as_tibble(df_info)\n",
    "\n",
    "# Combine morphogen information and proportion of annotations in each sample\n",
    "final_df <- inner_join(sample_info, tb)\n",
    "final_df <- final_df[,c(1,2,3,4,5)]\n",
    "final_df$count <- as.numeric(final_df$count)\n",
    "                "
   ]
  },
  {
   "cell_type": "code",
   "execution_count": 51,
   "id": "d6947306-bfc2-479d-b8ba-fc9ef4f5ed2c",
   "metadata": {
    "vscode": {
     "languageId": "r"
    }
   },
   "outputs": [],
   "source": [
    "col_basal_media <- c('#cccccc','#4c825d','#8dc7dc','#0e2a4d')"
   ]
  },
  {
   "cell_type": "code",
   "execution_count": 61,
   "id": "4c94502a-6b0d-4e35-8c47-2b9c239fbb64",
   "metadata": {
    "vscode": {
     "languageId": "r"
    }
   },
   "outputs": [
    {
     "data": {
      "image/png": "[encoded data removed]",
      "text/plain": [
       "plot without title"
      ]
     },
     "metadata": {
      "image/png": {
       "height": 120,
       "width": 240
      }
     },
     "output_type": "display_data"
    }
   ],
   "source": [
    "options(repr.plot.width=4, repr.plot.height=2)\n",
    "ggplot(final_df, aes(x = factor(Basal_media, levels=c('mTeSR','NIM','N2B27_2Si','N2B27_SB_CHIR')), \n",
    "                     y = count, fill=Basal_media)) +\n",
    "    geom_boxplot(outlier.size = 0.3) +\n",
    "    theme_bw() +\n",
    "    #facet_wrap(~ division, ncol=13) +\n",
    "    ggpubr::rotate_x_text() +\n",
    "    scale_fill_manual(values = col_basal_media) +\n",
    "    theme(axis.text.x=element_blank()) +\n",
    "    theme(panel.grid.major = element_blank(),\n",
    "        panel.grid.minor = element_blank(),\n",
    "        strip.background = element_blank()) +\n",
    "    stat_compare_means(label = \"p.signif\", method = \"wilcox.test\", \n",
    "                     ref.group = \"mTeSR\", label.y = max(final_df$count)*1.1) +\n",
    "    ylim(4, 35)\n",
    "\n",
    "# Save the plot to a file (e.g., PNG format)\n",
    "dir <- '/home/hsiulin/scRNA_seq_analysis/Patterning_iN_final/Plot/Boxplot/iGlut_pre_post_comp_new/purity_compare.pdf'\n",
    "ggsave(dir, width = 9, height = 5, dpi = 300, units = \"cm\")\n"
   ]
  },
  {
   "cell_type": "code",
   "execution_count": null,
   "id": "36bf1d69-c805-4542-80fc-3ea51f4a52fc",
   "metadata": {
    "vscode": {
     "languageId": "r"
    }
   },
   "outputs": [],
   "source": []
  },
  {
   "cell_type": "code",
   "execution_count": null,
   "id": "0a8caaf0-09f1-4991-9cbc-69ebb0cde8fa",
   "metadata": {
    "vscode": {
     "languageId": "r"
    }
   },
   "outputs": [],
   "source": []
  },
  {
   "cell_type": "code",
   "execution_count": null,
   "id": "d78a6388-6da8-4b9d-9c00-e816b3dde221",
   "metadata": {
    "vscode": {
     "languageId": "r"
    }
   },
   "outputs": [],
   "source": []
  },
  {
   "cell_type": "code",
   "execution_count": null,
   "id": "8e1dba83-7e8c-44c2-850f-d03265321819",
   "metadata": {
    "vscode": {
     "languageId": "r"
    }
   },
   "outputs": [],
   "source": []
  },
  {
   "cell_type": "code",
   "execution_count": null,
   "id": "0a6712ba-5b34-498c-a393-f16e98fa35c7",
   "metadata": {
    "vscode": {
     "languageId": "r"
    }
   },
   "outputs": [],
   "source": []
  },
  {
   "cell_type": "code",
   "execution_count": null,
   "id": "f06bccaf-5b59-44a0-b527-71ccfb4ad013",
   "metadata": {
    "vscode": {
     "languageId": "r"
    }
   },
   "outputs": [],
   "source": []
  },
  {
   "cell_type": "code",
   "execution_count": null,
   "id": "9b8ed2d0-d9c9-480b-87cc-59ae5ab5b16f",
   "metadata": {
    "vscode": {
     "languageId": "r"
    }
   },
   "outputs": [],
   "source": []
  },
  {
   "cell_type": "code",
   "execution_count": null,
   "id": "221b50f1-dc00-431f-9041-53bd38d8f9f1",
   "metadata": {
    "vscode": {
     "languageId": "r"
    }
   },
   "outputs": [],
   "source": []
  },
  {
   "cell_type": "code",
   "execution_count": null,
   "id": "cfd63725-8c23-48b9-96c2-d7bfb4eb3609",
   "metadata": {
    "vscode": {
     "languageId": "r"
    }
   },
   "outputs": [],
   "source": []
  },
  {
   "cell_type": "code",
   "execution_count": null,
   "id": "3cec4165-31d0-4467-96df-995838876a0e",
   "metadata": {
    "vscode": {
     "languageId": "r"
    }
   },
   "outputs": [],
   "source": []
  },
  {
   "cell_type": "code",
   "execution_count": null,
   "id": "a29f5d35-8a69-43a4-805b-0fd3b0e43b0c",
   "metadata": {
    "vscode": {
     "languageId": "r"
    }
   },
   "outputs": [],
   "source": []
  },
  {
   "cell_type": "code",
   "execution_count": null,
   "id": "e0f6bda4-60b3-47d7-b2df-744f26274a77",
   "metadata": {
    "vscode": {
     "languageId": "r"
    }
   },
   "outputs": [],
   "source": []
  },
  {
   "cell_type": "code",
   "execution_count": null,
   "id": "12f2bfcc-b807-474f-b2bb-5a6cae091713",
   "metadata": {
    "vscode": {
     "languageId": "r"
    }
   },
   "outputs": [],
   "source": []
  },
  {
   "cell_type": "code",
   "execution_count": null,
   "id": "091bcf1d-96c5-4345-8297-7b60680da633",
   "metadata": {
    "vscode": {
     "languageId": "r"
    }
   },
   "outputs": [],
   "source": []
  },
  {
   "cell_type": "code",
   "execution_count": null,
   "id": "f666a1ef-6291-4f21-81e4-b02855baacd1",
   "metadata": {
    "vscode": {
     "languageId": "r"
    }
   },
   "outputs": [],
   "source": []
  },
  {
   "cell_type": "code",
   "execution_count": null,
   "id": "1449a490-f66e-4ba6-a4e2-34baa28417f6",
   "metadata": {
    "vscode": {
     "languageId": "r"
    }
   },
   "outputs": [],
   "source": []
  },
  {
   "cell_type": "code",
   "execution_count": null,
   "id": "5dc09bb0-2b45-46f1-a349-97b2a3b0f127",
   "metadata": {
    "vscode": {
     "languageId": "r"
    }
   },
   "outputs": [],
   "source": []
  },
  {
   "cell_type": "code",
   "execution_count": null,
   "id": "39931212-bfec-4c15-9871-d856a273a9e2",
   "metadata": {
    "vscode": {
     "languageId": "r"
    }
   },
   "outputs": [],
   "source": []
  },
  {
   "cell_type": "code",
   "execution_count": null,
   "id": "0ee77f35-11ae-4062-ad29-427e2d10a69c",
   "metadata": {
    "vscode": {
     "languageId": "r"
    }
   },
   "outputs": [],
   "source": []
  },
  {
   "cell_type": "code",
   "execution_count": null,
   "id": "fcaa59db-c63f-425f-9379-f97b20194983",
   "metadata": {
    "vscode": {
     "languageId": "r"
    }
   },
   "outputs": [],
   "source": []
  },
  {
   "cell_type": "code",
   "execution_count": null,
   "id": "6c0dc43b-64b2-4692-aa09-f8234f2e9fc7",
   "metadata": {
    "vscode": {
     "languageId": "r"
    }
   },
   "outputs": [],
   "source": []
  },
  {
   "cell_type": "code",
   "execution_count": null,
   "id": "342063d4-ded0-49d0-8aa6-ea7e77711a44",
   "metadata": {
    "vscode": {
     "languageId": "r"
    }
   },
   "outputs": [],
   "source": []
  }
 ],
 "metadata": {
  "kernelspec": {
   "display_name": "R 4.3.2",
   "language": "R",
   "name": "ir432"
  },
  "language_info": {
   "codemirror_mode": "r",
   "file_extension": ".r",
   "mimetype": "text/x-r-source",
   "name": "R",
   "pygments_lexer": "r",
   "version": "4.3.2"
  }
 },
 "nbformat": 4,
 "nbformat_minor": 5
}
