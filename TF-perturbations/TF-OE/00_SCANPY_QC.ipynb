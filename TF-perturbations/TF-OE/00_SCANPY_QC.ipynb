{
 "cells": [
  {
   "cell_type": "code",
   "execution_count": 1,
   "id": "56db3523-935d-4e37-b5a4-9af55f398471",
   "metadata": {
    "tags": []
   },
   "outputs": [],
   "source": [
    "import numpy as np\n",
    "import pandas as pd\n",
    "import scanpy as sc\n",
    "import scipy\n",
    "import os\n",
    "import scipy.io as sio\n"
   ]
  },
  {
   "cell_type": "code",
   "execution_count": 2,
   "id": "452c3241-c98d-403b-9c5f-caff1aa87fc3",
   "metadata": {},
   "outputs": [],
   "source": [
    "sc.settings.verbosity = 1 # verbosity: errors (0), warnings (1), info (2), hints (3)\n",
    "sc.settings.set_figure_params(dpi=100, fontsize=10, dpi_save=300, figsize=(5,4), format='png')\n"
   ]
  },
  {
   "cell_type": "code",
   "execution_count": 59,
   "id": "e62550eb-e7f0-4e07-bf0f-497dc19ee9ac",
   "metadata": {},
   "outputs": [
    {
     "name": "stdout",
     "output_type": "stream",
     "text": [
      "NGN2iN_TF_batch1_FB  NGN2iN_TF_batch1_GEX  NGN2iN_TF_batch1_TF\n"
     ]
    }
   ],
   "source": [
    "!ls /links/groups/treutlein/DATA/sequencing/20240606_P2808_MARINA_SALL1_microglia_coculture_d15_d30/processed"
   ]
  },
  {
   "cell_type": "code",
   "execution_count": 60,
   "id": "037da718-52dc-4816-ae58-e0f7deb28e51",
   "metadata": {},
   "outputs": [
    {
     "name": "stdout",
     "output_type": "stream",
     "text": [
      "raw\n"
     ]
    }
   ],
   "source": [
    "!ls /links/groups/treutlein/DATA/sequencing/20240621_P2825_HSIU-CHUAN"
   ]
  },
  {
   "cell_type": "code",
   "execution_count": 61,
   "id": "f57bcf66-e685-4191-9f3e-3cf5d292ee6b",
   "metadata": {},
   "outputs": [
    {
     "name": "stdout",
     "output_type": "stream",
     "text": [
      "NGN2iN_TF_batch2_FB\t NGN2iN_TF_batch2_GEX  NGN2iN_TF_batch2_TF_new\n",
      "NGN2iN_TF_batch2_FB_new  NGN2iN_TF_batch2_TF   __NGN2iN_TF_batch2_FB_new.mro\n"
     ]
    }
   ],
   "source": [
    "!ls /local1/sequencing/DATA/sequencing/20240621_P2825_HSIU-CHUAN/processed"
   ]
  },
  {
   "cell_type": "code",
   "execution_count": 8,
   "id": "a120a7d7-c1af-4127-9c70-ac351e865d4e",
   "metadata": {
    "scrolled": true
   },
   "outputs": [
    {
     "name": "stderr",
     "output_type": "stream",
     "text": [
      "/links/groups/treutlein/USERS/jjans/anaconda3/envs/py_jjans_3.10_scanpy/lib/python3.10/site-packages/anndata/_core/anndata.py:1908: UserWarning: Variable names are not unique. To make them unique, call `.var_names_make_unique`.\n",
      "  utils.warn_names_duplicates(\"var\")\n",
      "/links/groups/treutlein/USERS/jjans/anaconda3/envs/py_jjans_3.10_scanpy/lib/python3.10/site-packages/anndata/_core/anndata.py:1908: UserWarning: Variable names are not unique. To make them unique, call `.var_names_make_unique`.\n",
      "  utils.warn_names_duplicates(\"var\")\n"
     ]
    }
   ],
   "source": [
    "adata1 = sc.read_10x_h5(\"/local1/sequencing/DATA/sequencing/20240621_P2825_HSIU-CHUAN/processed/NGN2iN_TF_batch2_GEX/outs/raw_feature_bc_matrix.h5\")\n"
   ]
  },
  {
   "cell_type": "code",
   "execution_count": 9,
   "id": "1696645a-9d5d-40e6-b2dd-abe40873eca3",
   "metadata": {},
   "outputs": [],
   "source": [
    "adata1.var_names_make_unique()"
   ]
  },
  {
   "cell_type": "code",
   "execution_count": 10,
   "id": "bcc2844e-7837-4d91-b0c9-553f19087679",
   "metadata": {},
   "outputs": [],
   "source": [
    "import seaborn as sns\n",
    "import matplotlib as mpl\n",
    "import matplotlib.pyplot as plt"
   ]
  },
  {
   "cell_type": "code",
   "execution_count": 11,
   "id": "bcef0170-2d89-4baf-a8b3-0d49fd0db51a",
   "metadata": {},
   "outputs": [
    {
     "data": {
      "text/plain": [
       "AnnData object with n_obs × n_vars = 2423522 × 33538\n",
       "    var: 'gene_ids', 'feature_types', 'genome'"
      ]
     },
     "execution_count": 11,
     "metadata": {},
     "output_type": "execute_result"
    }
   ],
   "source": [
    "adata1"
   ]
  },
  {
   "cell_type": "code",
   "execution_count": 13,
   "id": "408a5a0d-4118-4a21-a8cc-100d9092e16a",
   "metadata": {},
   "outputs": [],
   "source": [
    "adata1.write_h5ad(\"adata/NGN2iN_TF_batch1_raw_nonfiltered.h5ad\")"
   ]
  },
  {
   "cell_type": "code",
   "execution_count": 14,
   "id": "6bf40199-58ee-48cc-97d4-1d84624c80a9",
   "metadata": {},
   "outputs": [],
   "source": [
    "def QC_plots(adata,sample,\n",
    "             x_ngenes_lowerbound = 1500, x_ngenes_upperbound = 2000,\n",
    "             x_mito_lowerbound = [0.0, 0.07 ],\n",
    "             x_mito_upperbound = [ 0.10, 0.3 ],      \n",
    "):\n",
    "    nCountsPerGene = np.sum(adata.X, axis=0)\n",
    "    nCellsPerGene = np.sum(adata.X>0, axis=0)\n",
    "\n",
    "    # Show info\n",
    "    print(\"Number of counts (in the dataset units) per gene:\", nCountsPerGene.min(), \" - \" ,nCountsPerGene.max())\n",
    "    print(\"Number of cells in which each gene is detected:\", nCellsPerGene.min(), \" - \" ,nCellsPerGene.max())\n",
    "\n",
    "    nCells=adata.X.shape[0]\n",
    "\n",
    "    # pySCENIC thresholds\n",
    "    minCountsPerGene=3*.01*nCells # 3 counts in 1% of cells\n",
    "    print(\"minCountsPerGene: \", minCountsPerGene)\n",
    "\n",
    "    minSamples=.01*nCells # 1% of cells\n",
    "    print(\"minSamples: \", minSamples)\n",
    "\n",
    "    # simply compute the number of genes per cell (computers 'n_genes' column)\n",
    "    sc.pp.filter_cells(adata, min_genes=0)\n",
    "    # mito and genes/counts cuts\n",
    "    mito_genes = adata.var_names.str.startswith('MT-')\n",
    "    # for each cell compute fraction of counts in mito genes vs. all genes\n",
    "    adata.obs['percent_mito'] = np.sum(\n",
    "        adata[:, mito_genes].X, axis=1).A1 / np.sum(adata.X, axis=1).A1\n",
    "    # add the total counts per cell as observations-annotation to adata\n",
    "    adata.obs['n_counts'] = adata.X.sum(axis=1).A1\n",
    "\n",
    "    fig, (ax1, ax2, ax3) = plt.subplots(1, 3, figsize=(12, 4), dpi=150, sharey=True)\n",
    "\n",
    "    x = adata.obs['n_genes']\n",
    "    nbins=100\n",
    "\n",
    "    sns.distplot(x, ax=ax1, norm_hist=True, bins=nbins)\n",
    "    sns.distplot(x, ax=ax2, norm_hist=True, bins=nbins)\n",
    "    sns.distplot(x, ax=ax3, norm_hist=True, bins=nbins)\n",
    "\n",
    "    ax2.set_xlim(0,x_ngenes_lowerbound)\n",
    "    ax3.set_xlim(x_ngenes_upperbound, adata.obs['n_genes'].max() )\n",
    "\n",
    "    for ax in (ax1,ax2,ax3): \n",
    "        ax.set_xlabel('')\n",
    "\n",
    "    ax1.title.set_text('n_genes')\n",
    "    ax2.title.set_text('n_genes, lower bound')\n",
    "    ax3.title.set_text('n_genes, upper bound')\n",
    "\n",
    "    fig.text(-0.01, 0.5, 'Frequency', ha='center', va='center', rotation='vertical', size='x-large')\n",
    "    fig.text(0.5, 0.0, 'Genes expressed per cell', ha='center', va='center', size='x-large')\n",
    "\n",
    "    fig.tight_layout()\n",
    "    fig.savefig(sample+'__filtering_panel_genes.pdf', dpi=600, bbox_inches='tight')\n",
    "\n",
    "\n",
    "    fig, (ax1, ax2, ax3) = plt.subplots(1, 3, figsize=(12, 4), dpi=150, sharey=True)\n",
    "\n",
    "    x = adata.obs['percent_mito']\n",
    "    nbins=100\n",
    "\n",
    "    sns.distplot(x, ax=ax1, norm_hist=True, bins=nbins)\n",
    "    sns.distplot(x, ax=ax2, norm_hist=True, bins=int(nbins/(x_mito_lowerbound[1]-x_mito_lowerbound[0])) )\n",
    "    sns.distplot(x, ax=ax3, norm_hist=True, bins=int(nbins/(x_mito_upperbound[1]-x_mito_upperbound[0])) )\n",
    "\n",
    "    ax2.set_xlim(x_mito_lowerbound[0], x_mito_lowerbound[1])\n",
    "    ax3.set_xlim(x_mito_upperbound[0], x_mito_upperbound[1] )\n",
    "    for ax in (ax1,ax2,ax3): \n",
    "        ax.set_xlabel('')\n",
    "\n",
    "    ax1.title.set_text('percent_mito')\n",
    "    ax2.title.set_text('percent_mito, lower bound')\n",
    "    ax3.title.set_text('percent_mito, upper bound')\n",
    "\n",
    "    fig.text(-0.01, 0.5, 'Frequency', ha='center', va='center', rotation='vertical', size='x-large')\n",
    "    fig.text(0.5, 0.0, 'Mitochondrial read fraction per cell', ha='center', va='center', size='x-large')\n",
    "\n",
    "    fig.tight_layout()\n",
    "    fig.savefig(sample+'__filtering_panel_mitochondria.pdf', dpi=600, bbox_inches='tight')\n",
    "\n",
    "\n",
    "    fig, (ax1, ax2, ax3) = plt.subplots(1, 3, figsize=(12, 4), dpi=150, sharey=False)\n",
    "\n",
    "    sns.distplot( adata.obs['n_genes'], ax=ax1, norm_hist=True, bins=100)\n",
    "    sns.distplot( adata.obs['n_counts'], ax=ax2, norm_hist=True, bins=100)\n",
    "    sns.distplot( adata.obs['percent_mito'], ax=ax3, norm_hist=True, bins=100)\n",
    "\n",
    "    ax1.title.set_text('Number of genes expressed per cell')\n",
    "    ax2.title.set_text('Counts per cell')\n",
    "    ax3.title.set_text('Mitochondrial read fraction per cell')\n",
    "\n",
    "    fig.text(-0.01, 0.5, 'Frequency', ha='center', va='center', rotation='vertical', size='x-large')\n",
    "\n",
    "    fig.tight_layout()\n",
    "\n",
    "    fig.savefig(sample+'__filtering_panel_prefilter.pdf', dpi=600, bbox_inches='tight')\n",
    "\n",
    "    sc.pl.violin(adata, ['n_genes', 'n_counts', 'percent_mito'],\n",
    "        jitter=0.4, multi_panel=True,show=False)\n",
    "    plt.savefig(sample+'__filtering_panel_prefilter_violin.pdf', dpi=600, bbox_inches='tight')\n",
    "\n",
    "    sc.pl.scatter(adata, x='n_counts', y='n_genes', color='percent_mito',show=False)\n",
    "    plt.savefig(sample+'__filtering_panel_prefilter_scatter.pdf', dpi=600, bbox_inches='tight')\n",
    "\n",
    "    return(adata)"
   ]
  },
  {
   "cell_type": "code",
   "execution_count": 15,
   "id": "92b5d427-4a62-46de-9d76-ffda46ec75b9",
   "metadata": {},
   "outputs": [],
   "source": [
    "def filter_adata(adata,mito_pct=1,n_genes_filter_min=750,n_counts_filter_min=1000):\n",
    "    from scipy.stats import median_abs_deviation\n",
    "\n",
    "    def is_outlier(adata, metric: str, nmads: int):\n",
    "        M = adata.obs[metric]\n",
    "        outlier = (M < np.median(M) - nmads * median_abs_deviation(M)) | (\n",
    "            np.median(M) + nmads * median_abs_deviation(M) < M\n",
    "        )\n",
    "        return outlier\n",
    "\n",
    "\n",
    "    adata.obs[\"outlier\"] = (\n",
    "        is_outlier(adata, \"log1p_total_counts\", 5)\n",
    "        | is_outlier(adata, \"log1p_n_genes_by_counts\", 5)\n",
    "        | is_outlier(adata, \"pct_counts_in_top_20_genes\", 5)\n",
    "    )\n",
    "    adata.obs.outlier.value_counts()\n",
    "\n",
    "    adata.obs[\"mt_outlier\"] = is_outlier(adata, \"pct_counts_mt\", 3) | (\n",
    "        adata.obs[\"pct_counts_mt\"] > mito_pct\n",
    "    )\n",
    "    adata.obs.mt_outlier.value_counts()\n",
    "\n",
    "\n",
    "    sc.pp.filter_cells(adata, min_genes=n_genes_filter_min)\n",
    "    sc.pp.filter_cells(adata, min_counts=n_counts_filter_min)\n",
    "    \n",
    "    return(adata)\n"
   ]
  },
  {
   "cell_type": "code",
   "execution_count": 16,
   "id": "66c417e9-b10b-4489-80af-f97134a8ac98",
   "metadata": {
    "collapsed": true,
    "jupyter": {
     "outputs_hidden": true
    }
   },
   "outputs": [
    {
     "name": "stdout",
     "output_type": "stream",
     "text": [
      "NGN2iN_TF_batch1\n",
      "Number of counts (in the dataset units) per gene: 0.0  -  3308410.0\n",
      "Number of cells in which each gene is detected: 0  -  11715\n",
      "minCountsPerGene:  352.74\n",
      "minSamples:  117.58\n"
     ]
    },
    {
     "name": "stderr",
     "output_type": "stream",
     "text": [
      "/tmp/ipykernel_21404/3632207663.py:37: UserWarning: \n",
      "\n",
      "`distplot` is a deprecated function and will be removed in seaborn v0.14.0.\n",
      "\n",
      "Please adapt your code to use either `displot` (a figure-level function with\n",
      "similar flexibility) or `histplot` (an axes-level function for histograms).\n",
      "\n",
      "For a guide to updating your code to use the new functions, please see\n",
      "https://gist.github.com/mwaskom/de44147ed2974457ad6372750bbe5751\n",
      "\n",
      "  sns.distplot(x, ax=ax1, norm_hist=True, bins=nbins)\n",
      "/tmp/ipykernel_21404/3632207663.py:38: UserWarning: \n",
      "\n",
      "`distplot` is a deprecated function and will be removed in seaborn v0.14.0.\n",
      "\n",
      "Please adapt your code to use either `displot` (a figure-level function with\n",
      "similar flexibility) or `histplot` (an axes-level function for histograms).\n",
      "\n",
      "For a guide to updating your code to use the new functions, please see\n",
      "https://gist.github.com/mwaskom/de44147ed2974457ad6372750bbe5751\n",
      "\n",
      "  sns.distplot(x, ax=ax2, norm_hist=True, bins=nbins)\n",
      "/tmp/ipykernel_21404/3632207663.py:39: UserWarning: \n",
      "\n",
      "`distplot` is a deprecated function and will be removed in seaborn v0.14.0.\n",
      "\n",
      "Please adapt your code to use either `displot` (a figure-level function with\n",
      "similar flexibility) or `histplot` (an axes-level function for histograms).\n",
      "\n",
      "For a guide to updating your code to use the new functions, please see\n",
      "https://gist.github.com/mwaskom/de44147ed2974457ad6372750bbe5751\n",
      "\n",
      "  sns.distplot(x, ax=ax3, norm_hist=True, bins=nbins)\n",
      "/tmp/ipykernel_21404/3632207663.py:63: UserWarning: \n",
      "\n",
      "`distplot` is a deprecated function and will be removed in seaborn v0.14.0.\n",
      "\n",
      "Please adapt your code to use either `displot` (a figure-level function with\n",
      "similar flexibility) or `histplot` (an axes-level function for histograms).\n",
      "\n",
      "For a guide to updating your code to use the new functions, please see\n",
      "https://gist.github.com/mwaskom/de44147ed2974457ad6372750bbe5751\n",
      "\n",
      "  sns.distplot(x, ax=ax1, norm_hist=True, bins=nbins)\n",
      "/tmp/ipykernel_21404/3632207663.py:64: UserWarning: \n",
      "\n",
      "`distplot` is a deprecated function and will be removed in seaborn v0.14.0.\n",
      "\n",
      "Please adapt your code to use either `displot` (a figure-level function with\n",
      "similar flexibility) or `histplot` (an axes-level function for histograms).\n",
      "\n",
      "For a guide to updating your code to use the new functions, please see\n",
      "https://gist.github.com/mwaskom/de44147ed2974457ad6372750bbe5751\n",
      "\n",
      "  sns.distplot(x, ax=ax2, norm_hist=True, bins=int(nbins/(x_mito_lowerbound[1]-x_mito_lowerbound[0])) )\n",
      "/tmp/ipykernel_21404/3632207663.py:65: UserWarning: \n",
      "\n",
      "`distplot` is a deprecated function and will be removed in seaborn v0.14.0.\n",
      "\n",
      "Please adapt your code to use either `displot` (a figure-level function with\n",
      "similar flexibility) or `histplot` (an axes-level function for histograms).\n",
      "\n",
      "For a guide to updating your code to use the new functions, please see\n",
      "https://gist.github.com/mwaskom/de44147ed2974457ad6372750bbe5751\n",
      "\n",
      "  sns.distplot(x, ax=ax3, norm_hist=True, bins=int(nbins/(x_mito_upperbound[1]-x_mito_upperbound[0])) )\n",
      "/tmp/ipykernel_21404/3632207663.py:85: UserWarning: \n",
      "\n",
      "`distplot` is a deprecated function and will be removed in seaborn v0.14.0.\n",
      "\n",
      "Please adapt your code to use either `displot` (a figure-level function with\n",
      "similar flexibility) or `histplot` (an axes-level function for histograms).\n",
      "\n",
      "For a guide to updating your code to use the new functions, please see\n",
      "https://gist.github.com/mwaskom/de44147ed2974457ad6372750bbe5751\n",
      "\n",
      "  sns.distplot( adata.obs['n_genes'], ax=ax1, norm_hist=True, bins=100)\n",
      "/tmp/ipykernel_21404/3632207663.py:86: UserWarning: \n",
      "\n",
      "`distplot` is a deprecated function and will be removed in seaborn v0.14.0.\n",
      "\n",
      "Please adapt your code to use either `displot` (a figure-level function with\n",
      "similar flexibility) or `histplot` (an axes-level function for histograms).\n",
      "\n",
      "For a guide to updating your code to use the new functions, please see\n",
      "https://gist.github.com/mwaskom/de44147ed2974457ad6372750bbe5751\n",
      "\n",
      "  sns.distplot( adata.obs['n_counts'], ax=ax2, norm_hist=True, bins=100)\n",
      "/tmp/ipykernel_21404/3632207663.py:87: UserWarning: \n",
      "\n",
      "`distplot` is a deprecated function and will be removed in seaborn v0.14.0.\n",
      "\n",
      "Please adapt your code to use either `displot` (a figure-level function with\n",
      "similar flexibility) or `histplot` (an axes-level function for histograms).\n",
      "\n",
      "For a guide to updating your code to use the new functions, please see\n",
      "https://gist.github.com/mwaskom/de44147ed2974457ad6372750bbe5751\n",
      "\n",
      "  sns.distplot( adata.obs['percent_mito'], ax=ax3, norm_hist=True, bins=100)\n"
     ]
    },
    {
     "name": "stdout",
     "output_type": "stream",
     "text": [
      "Total number of cells: 11758\n",
      "20\n",
      "Number of cells after filtering of low quality cells: 8643\n"
     ]
    },
    {
     "name": "stderr",
     "output_type": "stream",
     "text": [
      "/links/groups/treutlein/USERS/jjans/anaconda3/envs/py_jjans_3.10_scanpy/lib/python3.10/site-packages/scanpy/preprocessing/_normalization.py:170: UserWarning: Received a view of an AnnData. Making a copy.\n",
      "  view_to_actual(adata)\n"
     ]
    },
    {
     "name": "stdout",
     "output_type": "stream",
     "text": [
      "Automatically set threshold at doublet score = 0.61\n",
      "Detected doublet rate = 0.0%\n",
      "Estimated detectable doublet fraction = 0.1%\n",
      "Overall doublet rate:\n",
      "\tExpected   = 5.0%\n",
      "\tEstimated  = 42.9%\n"
     ]
    }
   ],
   "source": [
    "samples = [\"NGN2iN_TF_batch1\"]\n",
    "for sample in samples:\n",
    "    print(sample)\n",
    "    sample_path = 'adata/'+sample+'_raw_nonfiltered.h5ad'\n",
    "    sample_path_filtered = 'adata/'+sample+'_filtered.h5ad'\n",
    "    sample_path_filtered_doublets = 'adata/'+sample+'_filtered_doublets.h5ad'\n",
    "    sample_path_filtered_final = 'adata/'+sample+'_filtered_final.h5ad'\n",
    "\n",
    "    adata = sc.read_h5ad(sample_path)\n",
    "    sc.pp.filter_cells(adata, min_counts=500)\n",
    "\n",
    "    # mitochondrial genes\n",
    "    adata.var[\"mt\"] = adata.var_names.str.startswith(\"MT-\")\n",
    "    # ribosomal genes\n",
    "    adata.var[\"ribo\"] = adata.var_names.str.startswith((\"RPS\", \"RPL\"))\n",
    "\n",
    "    sc.pp.calculate_qc_metrics(\n",
    "        adata, qc_vars=[\"mt\", \"ribo\"], inplace=True, percent_top=[20], log1p=True\n",
    "    )\n",
    "\n",
    "    a = QC_plots(adata,sample,\n",
    "                 x_ngenes_lowerbound = 1500, x_ngenes_upperbound = 2000,\n",
    "             x_mito_lowerbound = [0.0, 0.07 ],x_mito_upperbound = [ 0.10, 0.3 ],)\n",
    "\n",
    "    print(f\"Total number of cells: {adata.n_obs}\")\n",
    "    if 'iGlut_post' in sample:\n",
    "        mito_pct = 5\n",
    "    if 'iGlut_pre' in sample:\n",
    "        mito_pct = 6\n",
    "    if 'iGABA_post' in sample:\n",
    "        mito_pct = 6\n",
    "    if 'iGABA_pre' in sample:\n",
    "        mito_pct = 8\n",
    "    else:\n",
    "        mito_pct = 20\n",
    "\n",
    "    print(mito_pct)\n",
    "    adata = filter_adata(adata,mito_pct=mito_pct,n_genes_filter_min=0,n_counts_filter_min=500)\n",
    "    adata = adata[(~adata.obs.outlier) & (~adata.obs.mt_outlier)].copy()\n",
    "\n",
    "    print(f\"Number of cells after filtering of low quality cells: {adata.n_obs}\")\n",
    "\n",
    "    adata.write_h5ad(sample_path_filtered)\n",
    "    \n",
    "    \n",
    "    sc.external.pp.scrublet(adata) #estimates doublets\n",
    "    adata.write_h5ad(sample_path_filtered_doublets)\n",
    "\n",
    "    adata = adata[adata.obs['predicted_doublet'] == False] #do the actual filtering\n",
    "    adata.write_h5ad(sample_path_filtered_final)"
   ]
  },
  {
   "cell_type": "code",
   "execution_count": 17,
   "id": "d1144f3a-e0fc-4a78-ae61-2a934928c35e",
   "metadata": {},
   "outputs": [
    {
     "data": {
      "text/plain": [
       "View of AnnData object with n_obs × n_vars = 8640 × 33538\n",
       "    obs: 'n_counts', 'n_genes_by_counts', 'log1p_n_genes_by_counts', 'total_counts', 'log1p_total_counts', 'pct_counts_in_top_20_genes', 'total_counts_mt', 'log1p_total_counts_mt', 'pct_counts_mt', 'total_counts_ribo', 'log1p_total_counts_ribo', 'pct_counts_ribo', 'n_genes', 'percent_mito', 'outlier', 'mt_outlier', 'doublet_score', 'predicted_doublet'\n",
       "    var: 'gene_ids', 'feature_types', 'genome', 'mt', 'ribo', 'n_cells_by_counts', 'mean_counts', 'log1p_mean_counts', 'pct_dropout_by_counts', 'total_counts', 'log1p_total_counts'\n",
       "    uns: 'scrublet'"
      ]
     },
     "execution_count": 17,
     "metadata": {},
     "output_type": "execute_result"
    }
   ],
   "source": [
    "adata"
   ]
  },
  {
   "cell_type": "code",
   "execution_count": null,
   "id": "30b39983-a7d4-4823-96d8-ea883f7e1a66",
   "metadata": {},
   "outputs": [],
   "source": [
    "/local1/sequencing/DATA/sequencing/20240621_P2825_HSIU-CHUAN/processed/NGN2iN_TF_batch2_GEX/outs/raw_feature_bc_matrix.h5"
   ]
  },
  {
   "cell_type": "code",
   "execution_count": 63,
   "id": "208a4ab2-7d17-40d3-8656-f0a1e47134a5",
   "metadata": {},
   "outputs": [],
   "source": [
    "adata1_TF = sc.read_10x_h5(\"/local1/sequencing/DATA/sequencing/20240621_P2825_HSIU-CHUAN/processed/NGN2iN_TF_batch2_TF_new/outs/raw_feature_bc_matrix.h5\")\n",
    "\n",
    "adata1_FB = sc.read_10x_h5(\"/local1/sequencing/DATA/sequencing/20240621_P2825_HSIU-CHUAN/processed/NGN2iN_TF_batch2_FB_new/outs/raw_feature_bc_matrix.h5\")\n"
   ]
  },
  {
   "cell_type": "code",
   "execution_count": 42,
   "id": "f4e45825-6bae-4a92-a4ba-c2109a6b22f9",
   "metadata": {},
   "outputs": [
    {
     "name": "stdout",
     "output_type": "stream",
     "text": [
      "NGN2iN_TF_batch2_FB\t NGN2iN_TF_batch2_GEX  NGN2iN_TF_batch2_TF_new\n",
      "NGN2iN_TF_batch2_FB_new  NGN2iN_TF_batch2_TF\n"
     ]
    }
   ],
   "source": [
    "!ls /local1/sequencing/DATA/sequencing/20240621_P2825_HSIU-CHUAN/processed/"
   ]
  },
  {
   "cell_type": "code",
   "execution_count": 64,
   "id": "6e4ada9b-562b-4249-95ca-34a35fad9640",
   "metadata": {},
   "outputs": [],
   "source": [
    "FB_data_all = pd.DataFrame.sparse.from_spmatrix(adata1_FB.X)\n",
    "FB_data_all.index = adata1_FB.obs_names\n",
    "FB_data_all.columns = adata1_FB.var_names\n"
   ]
  },
  {
   "cell_type": "code",
   "execution_count": 65,
   "id": "e472ce7a-e9b7-4747-a616-dd56b55cd4a9",
   "metadata": {},
   "outputs": [
    {
     "name": "stderr",
     "output_type": "stream",
     "text": [
      "/tmp/ipykernel_21404/401757246.py:1: FutureWarning: The behavior of .astype from SparseDtype to a non-sparse dtype is deprecated. In a future version, this will return a non-sparse array with the requested dtype. To retain the old behavior, use `obj.astype(SparseDtype(dtype))`\n",
      "  FB_data_all.astype('bool').sum()\n"
     ]
    },
    {
     "data": {
      "text/plain": [
       "NFATC1       350\n",
       "LEF1         401\n",
       "LHX4          56\n",
       "NEUROD1     1212\n",
       "PHOX2B       764\n",
       "LHX9        1580\n",
       "MSX1       10146\n",
       "ZFHX3         28\n",
       "TLX2       10975\n",
       "TCF7L2       580\n",
       "TCF7L1       329\n",
       "dtype: int64"
      ]
     },
     "execution_count": 65,
     "metadata": {},
     "output_type": "execute_result"
    }
   ],
   "source": [
    "FB_data_all.astype('bool').sum()"
   ]
  },
  {
   "cell_type": "code",
   "execution_count": 66,
   "id": "f3280cee-8036-4f8a-90f6-525c6d5245ff",
   "metadata": {},
   "outputs": [],
   "source": [
    "barcode_df = pd.read_csv(\"/links/groups/treutlein/USERS/jjans/software/cellranger/cellranger-7.2.0/lib/python/cellranger/barcodes/translation/3M-february-2018.txt.gz\",sep=\"\\t\",header=None)"
   ]
  },
  {
   "cell_type": "code",
   "execution_count": 67,
   "id": "d98ae1bd-aa82-4d61-8e83-28f1c27cdbf8",
   "metadata": {},
   "outputs": [],
   "source": [
    "#AAACCCAAGAAACACT\n",
    "#AAACCCATCAAACACT\n",
    "#--> CAAG\n",
    "\n",
    "barcode_df[0] = barcode_df[0]+'-1'\n",
    "barcode_df[1] = barcode_df[1]+'-1'\n",
    "barcode_df.columns = ['GEX','FB']"
   ]
  },
  {
   "cell_type": "code",
   "execution_count": 68,
   "id": "63860497-6749-4f66-96a5-a0edb35788df",
   "metadata": {},
   "outputs": [],
   "source": [
    "barcode_df.index = barcode_df['FB']"
   ]
  },
  {
   "cell_type": "code",
   "execution_count": 69,
   "id": "8e3da3f3-48e0-4fbf-a660-27eac96b6f8a",
   "metadata": {},
   "outputs": [],
   "source": [
    "adata1_TF.obs_names = list(barcode_df.loc[adata1_TF.obs_names,'GEX'])"
   ]
  },
  {
   "cell_type": "code",
   "execution_count": 70,
   "id": "6192c4d4-acc2-4a8a-a905-311dde8374d7",
   "metadata": {},
   "outputs": [],
   "source": [
    "mask_TF = [True if x in adata.obs_names else False for x in adata1_TF.obs_names]\n",
    "adata1_TF_masked = adata1_TF[mask_TF,:]"
   ]
  },
  {
   "cell_type": "code",
   "execution_count": 71,
   "id": "c0f6e7ed-99a4-4579-a4f5-cb2fb5d1cde8",
   "metadata": {},
   "outputs": [
    {
     "name": "stderr",
     "output_type": "stream",
     "text": [
      "/tmp/ipykernel_21404/3240621032.py:4: FutureWarning: The behavior of .astype from SparseDtype to a non-sparse dtype is deprecated. In a future version, this will return a non-sparse array with the requested dtype. To retain the old behavior, use `obj.astype(SparseDtype(dtype))`\n",
      "  TF_data.to_csv(\"adata/TF_data_trans.tsv\",sep=\"\\t\")\n"
     ]
    }
   ],
   "source": [
    "TF_data = pd.DataFrame.sparse.from_spmatrix(adata1_TF_masked.X)\n",
    "TF_data.index = adata1_TF_masked.obs_names\n",
    "TF_data.columns = adata1_TF_masked.var_names\n",
    "TF_data.to_csv(\"adata/TF_data_trans.tsv\",sep=\"\\t\")"
   ]
  },
  {
   "cell_type": "code",
   "execution_count": 72,
   "id": "fd5a7467-bd0d-4713-b3c6-f2f6cbe02da7",
   "metadata": {},
   "outputs": [],
   "source": [
    "adata1_FB.obs_names = list(barcode_df.loc[adata1_FB.obs_names,'GEX'])"
   ]
  },
  {
   "cell_type": "code",
   "execution_count": 73,
   "id": "8db08b90-2f4b-40dd-bf97-d4e376cdee0d",
   "metadata": {},
   "outputs": [],
   "source": [
    "mask_FB = [True if x in adata.obs_names else False for x in adata1_FB.obs_names]\n",
    "adata1_FB_masked = adata1_FB[mask_FB,:]"
   ]
  },
  {
   "cell_type": "code",
   "execution_count": 74,
   "id": "8ad7b508-d1c5-4b6f-b3dd-892fce631613",
   "metadata": {},
   "outputs": [
    {
     "data": {
      "text/plain": [
       "View of AnnData object with n_obs × n_vars = 8427 × 11\n",
       "    var: 'gene_ids', 'feature_types', 'genome'"
      ]
     },
     "execution_count": 74,
     "metadata": {},
     "output_type": "execute_result"
    }
   ],
   "source": [
    "adata1_FB_masked"
   ]
  },
  {
   "cell_type": "code",
   "execution_count": 75,
   "id": "68e866cb-cba3-4a51-8b14-0a2ce28d7355",
   "metadata": {},
   "outputs": [
    {
     "name": "stderr",
     "output_type": "stream",
     "text": [
      "/tmp/ipykernel_21404/3783963985.py:4: FutureWarning: The behavior of .astype from SparseDtype to a non-sparse dtype is deprecated. In a future version, this will return a non-sparse array with the requested dtype. To retain the old behavior, use `obj.astype(SparseDtype(dtype))`\n",
      "  FB_data.to_csv(\"adata/FB_data_trans.tsv\",sep=\"\\t\")\n"
     ]
    }
   ],
   "source": [
    "FB_data = pd.DataFrame.sparse.from_spmatrix(adata1_FB_masked.X)\n",
    "FB_data.index = adata1_FB_masked.obs_names\n",
    "FB_data.columns = adata1_FB_masked.var_names\n",
    "FB_data.to_csv(\"adata/FB_data_trans.tsv\",sep=\"\\t\")"
   ]
  },
  {
   "cell_type": "code",
   "execution_count": 76,
   "id": "496e9a7f-529f-4a60-8282-bd0b788568fe",
   "metadata": {},
   "outputs": [
    {
     "name": "stderr",
     "output_type": "stream",
     "text": [
      "/tmp/ipykernel_21404/66963532.py:1: FutureWarning: The behavior of .astype from SparseDtype to a non-sparse dtype is deprecated. In a future version, this will return a non-sparse array with the requested dtype. To retain the old behavior, use `obj.astype(SparseDtype(dtype))`\n",
      "  FB_data.astype('bool').sum()\n"
     ]
    },
    {
     "data": {
      "text/plain": [
       "NFATC1      174\n",
       "LEF1        150\n",
       "LHX4         17\n",
       "NEUROD1     457\n",
       "PHOX2B      249\n",
       "LHX9        567\n",
       "MSX1       2755\n",
       "ZFHX3        17\n",
       "TLX2       2887\n",
       "TCF7L2      241\n",
       "TCF7L1      193\n",
       "dtype: int64"
      ]
     },
     "execution_count": 76,
     "metadata": {},
     "output_type": "execute_result"
    }
   ],
   "source": [
    "FB_data.astype('bool').sum()"
   ]
  },
  {
   "cell_type": "code",
   "execution_count": null,
   "id": "17870568-6fc4-4c1a-bc62-c36a104b3a3f",
   "metadata": {},
   "outputs": [],
   "source": []
  },
  {
   "cell_type": "code",
   "execution_count": null,
   "id": "a4e0eef3-56ec-4cb9-939d-4abc056705ca",
   "metadata": {},
   "outputs": [],
   "source": []
  }
 ],
 "metadata": {
  "kernelspec": {
   "display_name": "py_jjans_3.10_scanpy",
   "language": "python",
   "name": "py_jjans_3.10_scanpy"
  },
  "language_info": {
   "codemirror_mode": {
    "name": "ipython",
    "version": 3
   },
   "file_extension": ".py",
   "mimetype": "text/x-python",
   "name": "python",
   "nbconvert_exporter": "python",
   "pygments_lexer": "ipython3",
   "version": "3.10.8"
  }
 },
 "nbformat": 4,
 "nbformat_minor": 5
}
